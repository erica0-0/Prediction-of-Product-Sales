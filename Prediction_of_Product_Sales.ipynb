{
  "nbformat": 4,
  "nbformat_minor": 0,
  "metadata": {
    "colab": {
      "provenance": [],
      "authorship_tag": "ABX9TyPfSBj23RJ91QXAgBVBH7cl",
      "include_colab_link": true
    },
    "kernelspec": {
      "name": "python3",
      "display_name": "Python 3"
    },
    "language_info": {
      "name": "python"
    }
  },
  "cells": [
    {
      "cell_type": "markdown",
      "metadata": {
        "id": "view-in-github",
        "colab_type": "text"
      },
      "source": [
        "<a href=\"https://colab.research.google.com/github/erica0-0/Prediction-of-Product-Sales/blob/main/Prediction_of_Product_Sales.ipynb\" target=\"_parent\"><img src=\"https://colab.research.google.com/assets/colab-badge.svg\" alt=\"Open In Colab\"/></a>"
      ]
    },
    {
      "cell_type": "markdown",
      "source": [
        "# **Prediction of Product Sales**\n",
        "\n"
      ],
      "metadata": {
        "id": "oUMVpBs8BX1D"
      }
    },
    {
      "cell_type": "markdown",
      "source": [
        "- **Author:** Erica Kitano"
      ],
      "metadata": {
        "id": "1_3pVecTCNew"
      }
    },
    {
      "cell_type": "markdown",
      "source": [
        "## **Project Overview**\n"
      ],
      "metadata": {
        "id": "TsKh6-SxBdF-"
      }
    },
    {
      "cell_type": "markdown",
      "source": [
        "## **Load and Inspect Data**\n"
      ],
      "metadata": {
        "id": "c_32QzD7BfAd"
      }
    },
    {
      "cell_type": "markdown",
      "source": [
        "## **Clean Data**\n"
      ],
      "metadata": {
        "id": "_UQpCzg9BmSm"
      }
    },
    {
      "cell_type": "markdown",
      "source": [
        "## **Exploratory Data Analysis**"
      ],
      "metadata": {
        "id": "wAcO4tSkCjwx"
      }
    },
    {
      "cell_type": "markdown",
      "source": [
        "## **Explanatory Data Analysis**"
      ],
      "metadata": {
        "id": "GBfRpdHNCp1P"
      }
    }
  ]
}