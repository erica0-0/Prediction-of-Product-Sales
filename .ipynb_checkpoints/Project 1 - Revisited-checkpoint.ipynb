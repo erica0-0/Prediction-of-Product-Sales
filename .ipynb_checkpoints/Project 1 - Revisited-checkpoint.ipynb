{
 "cells": [
  {
   "cell_type": "markdown",
   "metadata": {
    "id": "oUMVpBs8BX1D"
   },
   "source": [
    "# **Prediction of Product Sales - Revisited**\n",
    "\n"
   ]
  },
  {
   "cell_type": "markdown",
   "metadata": {
    "id": "1_3pVecTCNew"
   },
   "source": [
    "- **Author:** Erica Kitano"
   ]
  },
  {
   "cell_type": "markdown",
   "metadata": {
    "id": "c_32QzD7BfAd"
   },
   "source": [
    "# Import Library"
   ]
  },
  {
   "cell_type": "code",
   "execution_count": 1,
   "metadata": {
    "id": "aXzx6ACtu0dP"
   },
   "outputs": [],
   "source": [
    "#Standard Imports\n",
    "import pandas as pd\n",
    "import matplotlib.pyplot as plt\n",
    "import numpy as np\n",
    "import seaborn as sns\n",
    "\n",
    "## Preprocessing tools\n",
    "from sklearn.model_selection import train_test_split\n",
    "from sklearn.compose import make_column_transformer, make_column_selector\n",
    "from sklearn.pipeline import make_pipeline\n",
    "from sklearn.preprocessing import OneHotEncoder, StandardScaler, OrdinalEncoder\n",
    "from sklearn.impute import SimpleImputer\n",
    "## Models & evaluation metrics\n",
    "from sklearn import metrics\n",
    "from sklearn.linear_model import LinearRegression\n",
    "from sklearn.tree import DecisionTreeRegressor\n",
    "from sklearn.ensemble import RandomForestRegressor\n",
    "import joblib\n",
    "\n",
    "## Diagram\n",
    "from sklearn import set_config\n",
    "set_config(display='diagram')\n",
    "\n",
    "## set pandas to display more columns\n",
    "pd.set_option('display.max_columns',50)\n",
    "\n",
    "## set to display up to 2 decimal places\n",
    "pd.set_option('display.float_format', lambda x: f\"{x:,.2f}\")"
   ]
  },
  {
   "cell_type": "markdown",
   "metadata": {
    "id": "bdKRZMlOua6M"
   },
   "source": [
    "# Load Data"
   ]
  },
  {
   "cell_type": "code",
   "execution_count": 2,
   "metadata": {
    "id": "dMGVKOMcvKzS"
   },
   "outputs": [],
   "source": [
    "df = pd.read_csv('datafile/sales_predictions.csv')"
   ]
  },
  {
   "cell_type": "code",
   "execution_count": 3,
   "metadata": {
    "colab": {
     "base_uri": "https://localhost:8080/"
    },
    "id": "GAcvjyyvvsBQ",
    "outputId": "f82df7f0-4073-4a25-91c7-a6a925d059a3"
   },
   "outputs": [
    {
     "name": "stdout",
     "output_type": "stream",
     "text": [
      "<class 'pandas.core.frame.DataFrame'>\n",
      "RangeIndex: 8523 entries, 0 to 8522\n",
      "Data columns (total 12 columns):\n",
      " #   Column                     Non-Null Count  Dtype  \n",
      "---  ------                     --------------  -----  \n",
      " 0   Item_Identifier            8523 non-null   object \n",
      " 1   Item_Weight                7060 non-null   float64\n",
      " 2   Item_Fat_Content           8523 non-null   object \n",
      " 3   Item_Visibility            8523 non-null   float64\n",
      " 4   Item_Type                  8523 non-null   object \n",
      " 5   Item_MRP                   8523 non-null   float64\n",
      " 6   Outlet_Identifier          8523 non-null   object \n",
      " 7   Outlet_Establishment_Year  8523 non-null   int64  \n",
      " 8   Outlet_Size                6113 non-null   object \n",
      " 9   Outlet_Location_Type       8523 non-null   object \n",
      " 10  Outlet_Type                8523 non-null   object \n",
      " 11  Item_Outlet_Sales          8523 non-null   float64\n",
      "dtypes: float64(4), int64(1), object(7)\n",
      "memory usage: 799.2+ KB\n"
     ]
    }
   ],
   "source": [
    "df.info()"
   ]
  },
  {
   "cell_type": "code",
   "execution_count": 4,
   "metadata": {
    "colab": {
     "base_uri": "https://localhost:8080/",
     "height": 357
    },
    "id": "k6ZgPfOzvt_b",
    "outputId": "c649586e-daae-40eb-f3c6-ab26045da567"
   },
   "outputs": [
    {
     "data": {
      "text/html": [
       "<div>\n",
       "<style scoped>\n",
       "    .dataframe tbody tr th:only-of-type {\n",
       "        vertical-align: middle;\n",
       "    }\n",
       "\n",
       "    .dataframe tbody tr th {\n",
       "        vertical-align: top;\n",
       "    }\n",
       "\n",
       "    .dataframe thead th {\n",
       "        text-align: right;\n",
       "    }\n",
       "</style>\n",
       "<table border=\"1\" class=\"dataframe\">\n",
       "  <thead>\n",
       "    <tr style=\"text-align: right;\">\n",
       "      <th></th>\n",
       "      <th>Item_Identifier</th>\n",
       "      <th>Item_Weight</th>\n",
       "      <th>Item_Fat_Content</th>\n",
       "      <th>Item_Visibility</th>\n",
       "      <th>Item_Type</th>\n",
       "      <th>Item_MRP</th>\n",
       "      <th>Outlet_Identifier</th>\n",
       "      <th>Outlet_Establishment_Year</th>\n",
       "      <th>Outlet_Size</th>\n",
       "      <th>Outlet_Location_Type</th>\n",
       "      <th>Outlet_Type</th>\n",
       "      <th>Item_Outlet_Sales</th>\n",
       "    </tr>\n",
       "  </thead>\n",
       "  <tbody>\n",
       "    <tr>\n",
       "      <th>0</th>\n",
       "      <td>FDA15</td>\n",
       "      <td>9.30</td>\n",
       "      <td>Low Fat</td>\n",
       "      <td>0.02</td>\n",
       "      <td>Dairy</td>\n",
       "      <td>249.81</td>\n",
       "      <td>OUT049</td>\n",
       "      <td>1999</td>\n",
       "      <td>Medium</td>\n",
       "      <td>Tier 1</td>\n",
       "      <td>Supermarket Type1</td>\n",
       "      <td>3,735.14</td>\n",
       "    </tr>\n",
       "    <tr>\n",
       "      <th>1</th>\n",
       "      <td>DRC01</td>\n",
       "      <td>5.92</td>\n",
       "      <td>Regular</td>\n",
       "      <td>0.02</td>\n",
       "      <td>Soft Drinks</td>\n",
       "      <td>48.27</td>\n",
       "      <td>OUT018</td>\n",
       "      <td>2009</td>\n",
       "      <td>Medium</td>\n",
       "      <td>Tier 3</td>\n",
       "      <td>Supermarket Type2</td>\n",
       "      <td>443.42</td>\n",
       "    </tr>\n",
       "    <tr>\n",
       "      <th>2</th>\n",
       "      <td>FDN15</td>\n",
       "      <td>17.50</td>\n",
       "      <td>Low Fat</td>\n",
       "      <td>0.02</td>\n",
       "      <td>Meat</td>\n",
       "      <td>141.62</td>\n",
       "      <td>OUT049</td>\n",
       "      <td>1999</td>\n",
       "      <td>Medium</td>\n",
       "      <td>Tier 1</td>\n",
       "      <td>Supermarket Type1</td>\n",
       "      <td>2,097.27</td>\n",
       "    </tr>\n",
       "    <tr>\n",
       "      <th>3</th>\n",
       "      <td>FDX07</td>\n",
       "      <td>19.20</td>\n",
       "      <td>Regular</td>\n",
       "      <td>0.00</td>\n",
       "      <td>Fruits and Vegetables</td>\n",
       "      <td>182.09</td>\n",
       "      <td>OUT010</td>\n",
       "      <td>1998</td>\n",
       "      <td>NaN</td>\n",
       "      <td>Tier 3</td>\n",
       "      <td>Grocery Store</td>\n",
       "      <td>732.38</td>\n",
       "    </tr>\n",
       "    <tr>\n",
       "      <th>4</th>\n",
       "      <td>NCD19</td>\n",
       "      <td>8.93</td>\n",
       "      <td>Low Fat</td>\n",
       "      <td>0.00</td>\n",
       "      <td>Household</td>\n",
       "      <td>53.86</td>\n",
       "      <td>OUT013</td>\n",
       "      <td>1987</td>\n",
       "      <td>High</td>\n",
       "      <td>Tier 3</td>\n",
       "      <td>Supermarket Type1</td>\n",
       "      <td>994.71</td>\n",
       "    </tr>\n",
       "  </tbody>\n",
       "</table>\n",
       "</div>"
      ],
      "text/plain": [
       "  Item_Identifier  Item_Weight Item_Fat_Content  Item_Visibility  \\\n",
       "0           FDA15         9.30          Low Fat             0.02   \n",
       "1           DRC01         5.92          Regular             0.02   \n",
       "2           FDN15        17.50          Low Fat             0.02   \n",
       "3           FDX07        19.20          Regular             0.00   \n",
       "4           NCD19         8.93          Low Fat             0.00   \n",
       "\n",
       "               Item_Type  Item_MRP Outlet_Identifier  \\\n",
       "0                  Dairy    249.81            OUT049   \n",
       "1            Soft Drinks     48.27            OUT018   \n",
       "2                   Meat    141.62            OUT049   \n",
       "3  Fruits and Vegetables    182.09            OUT010   \n",
       "4              Household     53.86            OUT013   \n",
       "\n",
       "   Outlet_Establishment_Year Outlet_Size Outlet_Location_Type  \\\n",
       "0                       1999      Medium               Tier 1   \n",
       "1                       2009      Medium               Tier 3   \n",
       "2                       1999      Medium               Tier 1   \n",
       "3                       1998         NaN               Tier 3   \n",
       "4                       1987        High               Tier 3   \n",
       "\n",
       "         Outlet_Type  Item_Outlet_Sales  \n",
       "0  Supermarket Type1           3,735.14  \n",
       "1  Supermarket Type2             443.42  \n",
       "2  Supermarket Type1           2,097.27  \n",
       "3      Grocery Store             732.38  \n",
       "4  Supermarket Type1             994.71  "
      ]
     },
     "execution_count": 4,
     "metadata": {},
     "output_type": "execute_result"
    }
   ],
   "source": [
    "df.head()"
   ]
  },
  {
   "cell_type": "code",
   "execution_count": 5,
   "metadata": {
    "colab": {
     "base_uri": "https://localhost:8080/"
    },
    "id": "IOdpSH80v9Yh",
    "outputId": "eeb30d92-6bee-43fa-bd1c-93c670d0c85d"
   },
   "outputs": [
    {
     "data": {
      "text/plain": [
       "(8523, 12)"
      ]
     },
     "execution_count": 5,
     "metadata": {},
     "output_type": "execute_result"
    }
   ],
   "source": [
    "# Find the number of rows and columns:\n",
    "df.shape\n"
   ]
  },
  {
   "cell_type": "markdown",
   "metadata": {
    "id": "-f7XEF6cwkKR"
   },
   "source": [
    "The dataframe has 8523 rows and 12 columns."
   ]
  },
  {
   "cell_type": "code",
   "execution_count": 6,
   "metadata": {
    "colab": {
     "base_uri": "https://localhost:8080/"
    },
    "id": "p8JgpOPBwqaV",
    "outputId": "4c52a495-c6f5-4272-aa72-4691c178787a"
   },
   "outputs": [
    {
     "name": "stdout",
     "output_type": "stream",
     "text": [
      "<class 'pandas.core.frame.DataFrame'>\n",
      "RangeIndex: 8523 entries, 0 to 8522\n",
      "Data columns (total 12 columns):\n",
      " #   Column                     Non-Null Count  Dtype  \n",
      "---  ------                     --------------  -----  \n",
      " 0   Item_Identifier            8523 non-null   object \n",
      " 1   Item_Weight                7060 non-null   float64\n",
      " 2   Item_Fat_Content           8523 non-null   object \n",
      " 3   Item_Visibility            8523 non-null   float64\n",
      " 4   Item_Type                  8523 non-null   object \n",
      " 5   Item_MRP                   8523 non-null   float64\n",
      " 6   Outlet_Identifier          8523 non-null   object \n",
      " 7   Outlet_Establishment_Year  8523 non-null   int64  \n",
      " 8   Outlet_Size                6113 non-null   object \n",
      " 9   Outlet_Location_Type       8523 non-null   object \n",
      " 10  Outlet_Type                8523 non-null   object \n",
      " 11  Item_Outlet_Sales          8523 non-null   float64\n",
      "dtypes: float64(4), int64(1), object(7)\n",
      "memory usage: 799.2+ KB\n"
     ]
    }
   ],
   "source": [
    "# Find the datatypes of each variable:\n",
    "df.info()"
   ]
  },
  {
   "cell_type": "markdown",
   "metadata": {
    "id": "V0QZ5hslLn5c"
   },
   "source": [
    "# Inspect and Clean Data"
   ]
  },
  {
   "cell_type": "markdown",
   "metadata": {
    "id": "mx6OH3q0MKUx"
   },
   "source": [
    "## Check for duplicates"
   ]
  },
  {
   "cell_type": "code",
   "execution_count": 7,
   "metadata": {
    "colab": {
     "base_uri": "https://localhost:8080/"
    },
    "id": "1zxTHQ5KLuwV",
    "outputId": "94f13f1c-d299-49fc-ef8c-1650ed422920"
   },
   "outputs": [
    {
     "data": {
      "text/plain": [
       "0"
      ]
     },
     "execution_count": 7,
     "metadata": {},
     "output_type": "execute_result"
    }
   ],
   "source": [
    "df.duplicated().sum()"
   ]
  },
  {
   "cell_type": "markdown",
   "metadata": {
    "id": "QbU7KMeuLwFT"
   },
   "source": [
    "There are no duplicates."
   ]
  },
  {
   "cell_type": "markdown",
   "metadata": {},
   "source": [
    "## Check for missing values"
   ]
  },
  {
   "cell_type": "code",
   "execution_count": 8,
   "metadata": {},
   "outputs": [
    {
     "data": {
      "text/plain": [
       "Item_Identifier                 0\n",
       "Item_Weight                  1463\n",
       "Item_Fat_Content                0\n",
       "Item_Visibility                 0\n",
       "Item_Type                       0\n",
       "Item_MRP                        0\n",
       "Outlet_Identifier               0\n",
       "Outlet_Establishment_Year       0\n",
       "Outlet_Size                  2410\n",
       "Outlet_Location_Type            0\n",
       "Outlet_Type                     0\n",
       "Item_Outlet_Sales               0\n",
       "dtype: int64"
      ]
     },
     "execution_count": 8,
     "metadata": {},
     "output_type": "execute_result"
    }
   ],
   "source": [
    "df.isna().sum()"
   ]
  },
  {
   "cell_type": "markdown",
   "metadata": {},
   "source": [
    "There are many missing values in `Item_Weight` and `Outlet_Size` columns.\n",
    "\n",
    "I will impute these missing values during preprocessing step."
   ]
  },
  {
   "cell_type": "markdown",
   "metadata": {
    "id": "n7uEUfkMMG6W"
   },
   "source": [
    "## Check for inconsistent values"
   ]
  },
  {
   "cell_type": "code",
   "execution_count": 9,
   "metadata": {
    "id": "WsizJnSgL_N8"
   },
   "outputs": [
    {
     "data": {
      "text/plain": [
       "Index(['Item_Identifier', 'Item_Fat_Content', 'Item_Type', 'Outlet_Identifier',\n",
       "       'Outlet_Size', 'Outlet_Location_Type', 'Outlet_Type'],\n",
       "      dtype='object')"
      ]
     },
     "execution_count": 9,
     "metadata": {},
     "output_type": "execute_result"
    }
   ],
   "source": [
    "#Loop through categorical columns to check for inconsistant values.\n",
    "dtypes = df.dtypes\n",
    "str_cols = dtypes[dtypes=='object'].index\n",
    "str_cols\n",
    "#for col in str_cols:\n",
    "#    print(f\"Column= {col}\")\n",
    "#    print(df[col].value_counts(dropna=False))\n",
    "#    print('\\n\\n')"
   ]
  },
  {
   "cell_type": "markdown",
   "metadata": {},
   "source": [
    "From the above output (which I commented out due to lengthy output), there were inconsistent values observed in the `Item_Fat_Content` column."
   ]
  },
  {
   "cell_type": "code",
   "execution_count": 10,
   "metadata": {},
   "outputs": [
    {
     "data": {
      "text/plain": [
       "Low Fat    5089\n",
       "Regular    2889\n",
       "LF          316\n",
       "reg         117\n",
       "low fat     112\n",
       "Name: Item_Fat_Content, dtype: int64"
      ]
     },
     "execution_count": 10,
     "metadata": {},
     "output_type": "execute_result"
    }
   ],
   "source": [
    "df['Item_Fat_Content'].value_counts()"
   ]
  },
  {
   "cell_type": "code",
   "execution_count": 11,
   "metadata": {
    "id": "I2D0fwllMpdj"
   },
   "outputs": [],
   "source": [
    "df.replace({'LF' : 'Low Fat', \n",
    "            'low fat' : 'Low Fat',\n",
    "            'reg' : 'Regular'}, inplace=True)"
   ]
  },
  {
   "cell_type": "code",
   "execution_count": 12,
   "metadata": {
    "colab": {
     "base_uri": "https://localhost:8080/"
    },
    "id": "66ewFR-UMrSj",
    "outputId": "93062374-6d84-4d8e-9920-209cd9d552ed"
   },
   "outputs": [
    {
     "data": {
      "text/plain": [
       "Low Fat    5517\n",
       "Regular    3006\n",
       "Name: Item_Fat_Content, dtype: int64"
      ]
     },
     "execution_count": 12,
     "metadata": {},
     "output_type": "execute_result"
    }
   ],
   "source": [
    "df['Item_Fat_Content'].value_counts()"
   ]
  },
  {
   "cell_type": "markdown",
   "metadata": {
    "id": "uuPcOWrAMxxb"
   },
   "source": [
    "**Inconsistent data has been addressed.**"
   ]
  },
  {
   "cell_type": "markdown",
   "metadata": {},
   "source": [
    "## Check for odd values"
   ]
  },
  {
   "cell_type": "code",
   "execution_count": 13,
   "metadata": {},
   "outputs": [
    {
     "data": {
      "text/html": [
       "<div>\n",
       "<style scoped>\n",
       "    .dataframe tbody tr th:only-of-type {\n",
       "        vertical-align: middle;\n",
       "    }\n",
       "\n",
       "    .dataframe tbody tr th {\n",
       "        vertical-align: top;\n",
       "    }\n",
       "\n",
       "    .dataframe thead th {\n",
       "        text-align: right;\n",
       "    }\n",
       "</style>\n",
       "<table border=\"1\" class=\"dataframe\">\n",
       "  <thead>\n",
       "    <tr style=\"text-align: right;\">\n",
       "      <th></th>\n",
       "      <th>Item_Weight</th>\n",
       "      <th>Item_Visibility</th>\n",
       "      <th>Item_MRP</th>\n",
       "      <th>Outlet_Establishment_Year</th>\n",
       "      <th>Item_Outlet_Sales</th>\n",
       "    </tr>\n",
       "  </thead>\n",
       "  <tbody>\n",
       "    <tr>\n",
       "      <th>count</th>\n",
       "      <td>7,060.00</td>\n",
       "      <td>8,523.00</td>\n",
       "      <td>8,523.00</td>\n",
       "      <td>8,523.00</td>\n",
       "      <td>8,523.00</td>\n",
       "    </tr>\n",
       "    <tr>\n",
       "      <th>mean</th>\n",
       "      <td>12.86</td>\n",
       "      <td>0.07</td>\n",
       "      <td>140.99</td>\n",
       "      <td>1,997.83</td>\n",
       "      <td>2,181.29</td>\n",
       "    </tr>\n",
       "    <tr>\n",
       "      <th>std</th>\n",
       "      <td>4.64</td>\n",
       "      <td>0.05</td>\n",
       "      <td>62.28</td>\n",
       "      <td>8.37</td>\n",
       "      <td>1,706.50</td>\n",
       "    </tr>\n",
       "    <tr>\n",
       "      <th>min</th>\n",
       "      <td>4.55</td>\n",
       "      <td>0.00</td>\n",
       "      <td>31.29</td>\n",
       "      <td>1,985.00</td>\n",
       "      <td>33.29</td>\n",
       "    </tr>\n",
       "    <tr>\n",
       "      <th>25%</th>\n",
       "      <td>8.77</td>\n",
       "      <td>0.03</td>\n",
       "      <td>93.83</td>\n",
       "      <td>1,987.00</td>\n",
       "      <td>834.25</td>\n",
       "    </tr>\n",
       "    <tr>\n",
       "      <th>50%</th>\n",
       "      <td>12.60</td>\n",
       "      <td>0.05</td>\n",
       "      <td>143.01</td>\n",
       "      <td>1,999.00</td>\n",
       "      <td>1,794.33</td>\n",
       "    </tr>\n",
       "    <tr>\n",
       "      <th>75%</th>\n",
       "      <td>16.85</td>\n",
       "      <td>0.09</td>\n",
       "      <td>185.64</td>\n",
       "      <td>2,004.00</td>\n",
       "      <td>3,101.30</td>\n",
       "    </tr>\n",
       "    <tr>\n",
       "      <th>max</th>\n",
       "      <td>21.35</td>\n",
       "      <td>0.33</td>\n",
       "      <td>266.89</td>\n",
       "      <td>2,009.00</td>\n",
       "      <td>13,086.96</td>\n",
       "    </tr>\n",
       "  </tbody>\n",
       "</table>\n",
       "</div>"
      ],
      "text/plain": [
       "       Item_Weight  Item_Visibility  Item_MRP  Outlet_Establishment_Year  \\\n",
       "count     7,060.00         8,523.00  8,523.00                   8,523.00   \n",
       "mean         12.86             0.07    140.99                   1,997.83   \n",
       "std           4.64             0.05     62.28                       8.37   \n",
       "min           4.55             0.00     31.29                   1,985.00   \n",
       "25%           8.77             0.03     93.83                   1,987.00   \n",
       "50%          12.60             0.05    143.01                   1,999.00   \n",
       "75%          16.85             0.09    185.64                   2,004.00   \n",
       "max          21.35             0.33    266.89                   2,009.00   \n",
       "\n",
       "       Item_Outlet_Sales  \n",
       "count           8,523.00  \n",
       "mean            2,181.29  \n",
       "std             1,706.50  \n",
       "min                33.29  \n",
       "25%               834.25  \n",
       "50%             1,794.33  \n",
       "75%             3,101.30  \n",
       "max            13,086.96  "
      ]
     },
     "execution_count": 13,
     "metadata": {},
     "output_type": "execute_result"
    }
   ],
   "source": [
    "df.describe()"
   ]
  },
  {
   "cell_type": "markdown",
   "metadata": {},
   "source": [
    "There are no odd values in this dataset."
   ]
  },
  {
   "cell_type": "markdown",
   "metadata": {
    "id": "W4L5Qid5ZRk-"
   },
   "source": [
    "## Check for unnecessary columns"
   ]
  },
  {
   "cell_type": "code",
   "execution_count": 14,
   "metadata": {},
   "outputs": [
    {
     "name": "stdout",
     "output_type": "stream",
     "text": [
      "<class 'pandas.core.frame.DataFrame'>\n",
      "RangeIndex: 8523 entries, 0 to 8522\n",
      "Data columns (total 12 columns):\n",
      " #   Column                     Non-Null Count  Dtype  \n",
      "---  ------                     --------------  -----  \n",
      " 0   Item_Identifier            8523 non-null   object \n",
      " 1   Item_Weight                7060 non-null   float64\n",
      " 2   Item_Fat_Content           8523 non-null   object \n",
      " 3   Item_Visibility            8523 non-null   float64\n",
      " 4   Item_Type                  8523 non-null   object \n",
      " 5   Item_MRP                   8523 non-null   float64\n",
      " 6   Outlet_Identifier          8523 non-null   object \n",
      " 7   Outlet_Establishment_Year  8523 non-null   int64  \n",
      " 8   Outlet_Size                6113 non-null   object \n",
      " 9   Outlet_Location_Type       8523 non-null   object \n",
      " 10  Outlet_Type                8523 non-null   object \n",
      " 11  Item_Outlet_Sales          8523 non-null   float64\n",
      "dtypes: float64(4), int64(1), object(7)\n",
      "memory usage: 799.2+ KB\n"
     ]
    }
   ],
   "source": [
    "df.info()"
   ]
  },
  {
   "cell_type": "markdown",
   "metadata": {},
   "source": [
    "Check for columns with many unique values"
   ]
  },
  {
   "cell_type": "code",
   "execution_count": 15,
   "metadata": {
    "colab": {
     "base_uri": "https://localhost:8080/"
    },
    "id": "T5Y8jiRpZCvZ",
    "outputId": "92742db4-fbb4-47f8-8687-0a7ca62563c9"
   },
   "outputs": [
    {
     "name": "stdout",
     "output_type": "stream",
     "text": [
      "Item_Identifier\n",
      "1559\n",
      "Item_Fat_Content\n",
      "2\n",
      "Item_Type\n",
      "16\n",
      "Outlet_Identifier\n",
      "10\n",
      "Outlet_Size\n",
      "3\n",
      "Outlet_Location_Type\n",
      "3\n",
      "Outlet_Type\n",
      "4\n"
     ]
    }
   ],
   "source": [
    "for col in str_cols:\n",
    "    print(col)\n",
    "    print(df[col].nunique())"
   ]
  },
  {
   "cell_type": "markdown",
   "metadata": {
    "id": "B97YwrQBZVRZ"
   },
   "source": [
    "The column: `Item_Identifier` has many unique values. \n",
    "\n",
    "I will drop the `Item_Identifier` column due to high cardinality, because high cardinality will create a very sparse dataset when it is One Hot Encoded which can negatively impact the models' metrics and increase processing times."
   ]
  },
  {
   "cell_type": "markdown",
   "metadata": {},
   "source": [
    "I will also drop `Outlet_Identifier` and `Outlet_Establishment_Year` columns, as these columns are not useful to keep when considering our business problem which is to predict & increase sales based on **properties of products and outlets**."
   ]
  },
  {
   "cell_type": "code",
   "execution_count": 16,
   "metadata": {},
   "outputs": [
    {
     "name": "stdout",
     "output_type": "stream",
     "text": [
      "<class 'pandas.core.frame.DataFrame'>\n",
      "RangeIndex: 8523 entries, 0 to 8522\n",
      "Data columns (total 9 columns):\n",
      " #   Column                Non-Null Count  Dtype  \n",
      "---  ------                --------------  -----  \n",
      " 0   Item_Weight           7060 non-null   float64\n",
      " 1   Item_Fat_Content      8523 non-null   object \n",
      " 2   Item_Visibility       8523 non-null   float64\n",
      " 3   Item_Type             8523 non-null   object \n",
      " 4   Item_MRP              8523 non-null   float64\n",
      " 5   Outlet_Size           6113 non-null   object \n",
      " 6   Outlet_Location_Type  8523 non-null   object \n",
      " 7   Outlet_Type           8523 non-null   object \n",
      " 8   Item_Outlet_Sales     8523 non-null   float64\n",
      "dtypes: float64(4), object(5)\n",
      "memory usage: 599.4+ KB\n"
     ]
    }
   ],
   "source": [
    "#Drop unncessary columns\n",
    "df = df.drop(columns = ['Item_Identifier', 'Outlet_Identifier', 'Outlet_Establishment_Year'])\n",
    "df.info()"
   ]
  },
  {
   "cell_type": "markdown",
   "metadata": {},
   "source": [
    "The remaining features all fall under **properties of products and outlets** and therefore are relevant in our modeling."
   ]
  },
  {
   "cell_type": "markdown",
   "metadata": {
    "id": "qOqwNqfeFNl7"
   },
   "source": [
    "# Preprocesing for Machine Learning"
   ]
  },
  {
   "cell_type": "markdown",
   "metadata": {
    "id": "hAHT0J7IM90g"
   },
   "source": [
    "### Identify the features (X) and target (y)"
   ]
  },
  {
   "cell_type": "code",
   "execution_count": 17,
   "metadata": {
    "id": "4dVTnvxDNTi3"
   },
   "outputs": [],
   "source": [
    "#Define features (X) and target(y)\n",
    "X = df.drop(columns = 'Item_Outlet_Sales')\n",
    "y = df['Item_Outlet_Sales']"
   ]
  },
  {
   "cell_type": "markdown",
   "metadata": {
    "id": "17aMZme_NeUN"
   },
   "source": [
    "### Perform a train test split"
   ]
  },
  {
   "cell_type": "code",
   "execution_count": 18,
   "metadata": {
    "id": "9du0avDXNirt"
   },
   "outputs": [],
   "source": [
    "X_train, X_test, y_train, y_test = train_test_split(X, y, random_state=42)"
   ]
  },
  {
   "cell_type": "markdown",
   "metadata": {
    "id": "6btD3zOTNtR3"
   },
   "source": [
    "### Identify each feature as numerical or categorical"
   ]
  },
  {
   "cell_type": "code",
   "execution_count": 19,
   "metadata": {
    "colab": {
     "base_uri": "https://localhost:8080/"
    },
    "id": "DOq2gVpcNveP",
    "outputId": "5e4efa8a-70b3-4b0c-c43b-fb3407c9f3c9"
   },
   "outputs": [
    {
     "data": {
      "text/plain": [
       "Item_Weight             float64\n",
       "Item_Fat_Content         object\n",
       "Item_Visibility         float64\n",
       "Item_Type                object\n",
       "Item_MRP                float64\n",
       "Outlet_Size              object\n",
       "Outlet_Location_Type     object\n",
       "Outlet_Type              object\n",
       "dtype: object"
      ]
     },
     "execution_count": 19,
     "metadata": {},
     "output_type": "execute_result"
    }
   ],
   "source": [
    "#display datatype of each column in X\n",
    "X.dtypes"
   ]
  },
  {
   "cell_type": "markdown",
   "metadata": {},
   "source": [
    "**Numerical Columns**: `Item_Weight`, `Item_Visibility`, `Item_MRP`\n",
    "\n",
    "**Categorical Columns**: `Item_Fat_Content`, `Item_Type`, `Outlet_Size`, `Outlet_Location_Type`, `Outlet_Type`"
   ]
  },
  {
   "cell_type": "markdown",
   "metadata": {
    "id": "HKoE7ZEdQAv6"
   },
   "source": [
    "### Preprocessing + ColumnTransformer"
   ]
  },
  {
   "cell_type": "code",
   "execution_count": 20,
   "metadata": {},
   "outputs": [
    {
     "data": {
      "text/plain": [
       "['Item_Fat_Content',\n",
       " 'Item_Type',\n",
       " 'Outlet_Size',\n",
       " 'Outlet_Location_Type',\n",
       " 'Outlet_Type']"
      ]
     },
     "execution_count": 20,
     "metadata": {},
     "output_type": "execute_result"
    }
   ],
   "source": [
    "## make categorical selector\n",
    "cat_sel = make_column_selector(dtype_include='object')\n",
    "cat_sel(X_train)"
   ]
  },
  {
   "cell_type": "code",
   "execution_count": 21,
   "metadata": {},
   "outputs": [
    {
     "data": {
      "text/plain": [
       "['Item_Weight', 'Item_Visibility', 'Item_MRP']"
      ]
     },
     "execution_count": 21,
     "metadata": {},
     "output_type": "execute_result"
    }
   ],
   "source": [
    "## make numeric selector\n",
    "num_sel = make_column_selector(dtype_include='number')\n",
    "num_sel(X_train)"
   ]
  },
  {
   "cell_type": "code",
   "execution_count": 22,
   "metadata": {},
   "outputs": [],
   "source": [
    "## make pipelines for categorical vs numeric data\n",
    "cat_pipe = make_pipeline(SimpleImputer(strategy='constant', fill_value='MISSING'),\n",
    "                         OneHotEncoder(handle_unknown='ignore', sparse=False))\n",
    "num_pipe = make_pipeline(SimpleImputer(strategy='median'))"
   ]
  },
  {
   "cell_type": "markdown",
   "metadata": {},
   "source": [
    "NOTE: For missing values in the numerical column, I chose to fill in missing values with median as it is less affected by outlier than mean."
   ]
  },
  {
   "cell_type": "markdown",
   "metadata": {},
   "source": [
    "***\n",
    "# **Project 1 Revisited**"
   ]
  },
  {
   "cell_type": "markdown",
   "metadata": {},
   "source": [
    "- Remake X_train and X_test as DataFrames with the feature names extracted from the column transformer instead of combining your preprocessor and model into 1 pipeline.\n",
    "\n",
    "- Use\n",
    "  - verbose_feature_names_out=False\n",
    "  - preprocessor.get_feature_names_out()"
   ]
  },
  {
   "cell_type": "markdown",
   "metadata": {},
   "source": [
    "##### **Proprocessor using column transformer**"
   ]
  },
  {
   "cell_type": "code",
   "execution_count": 23,
   "metadata": {},
   "outputs": [
    {
     "data": {
      "text/html": [
       "<style>#sk-container-id-1 {color: black;background-color: white;}#sk-container-id-1 pre{padding: 0;}#sk-container-id-1 div.sk-toggleable {background-color: white;}#sk-container-id-1 label.sk-toggleable__label {cursor: pointer;display: block;width: 100%;margin-bottom: 0;padding: 0.3em;box-sizing: border-box;text-align: center;}#sk-container-id-1 label.sk-toggleable__label-arrow:before {content: \"▸\";float: left;margin-right: 0.25em;color: #696969;}#sk-container-id-1 label.sk-toggleable__label-arrow:hover:before {color: black;}#sk-container-id-1 div.sk-estimator:hover label.sk-toggleable__label-arrow:before {color: black;}#sk-container-id-1 div.sk-toggleable__content {max-height: 0;max-width: 0;overflow: hidden;text-align: left;background-color: #f0f8ff;}#sk-container-id-1 div.sk-toggleable__content pre {margin: 0.2em;color: black;border-radius: 0.25em;background-color: #f0f8ff;}#sk-container-id-1 input.sk-toggleable__control:checked~div.sk-toggleable__content {max-height: 200px;max-width: 100%;overflow: auto;}#sk-container-id-1 input.sk-toggleable__control:checked~label.sk-toggleable__label-arrow:before {content: \"▾\";}#sk-container-id-1 div.sk-estimator input.sk-toggleable__control:checked~label.sk-toggleable__label {background-color: #d4ebff;}#sk-container-id-1 div.sk-label input.sk-toggleable__control:checked~label.sk-toggleable__label {background-color: #d4ebff;}#sk-container-id-1 input.sk-hidden--visually {border: 0;clip: rect(1px 1px 1px 1px);clip: rect(1px, 1px, 1px, 1px);height: 1px;margin: -1px;overflow: hidden;padding: 0;position: absolute;width: 1px;}#sk-container-id-1 div.sk-estimator {font-family: monospace;background-color: #f0f8ff;border: 1px dotted black;border-radius: 0.25em;box-sizing: border-box;margin-bottom: 0.5em;}#sk-container-id-1 div.sk-estimator:hover {background-color: #d4ebff;}#sk-container-id-1 div.sk-parallel-item::after {content: \"\";width: 100%;border-bottom: 1px solid gray;flex-grow: 1;}#sk-container-id-1 div.sk-label:hover label.sk-toggleable__label {background-color: #d4ebff;}#sk-container-id-1 div.sk-serial::before {content: \"\";position: absolute;border-left: 1px solid gray;box-sizing: border-box;top: 0;bottom: 0;left: 50%;z-index: 0;}#sk-container-id-1 div.sk-serial {display: flex;flex-direction: column;align-items: center;background-color: white;padding-right: 0.2em;padding-left: 0.2em;position: relative;}#sk-container-id-1 div.sk-item {position: relative;z-index: 1;}#sk-container-id-1 div.sk-parallel {display: flex;align-items: stretch;justify-content: center;background-color: white;position: relative;}#sk-container-id-1 div.sk-item::before, #sk-container-id-1 div.sk-parallel-item::before {content: \"\";position: absolute;border-left: 1px solid gray;box-sizing: border-box;top: 0;bottom: 0;left: 50%;z-index: -1;}#sk-container-id-1 div.sk-parallel-item {display: flex;flex-direction: column;z-index: 1;position: relative;background-color: white;}#sk-container-id-1 div.sk-parallel-item:first-child::after {align-self: flex-end;width: 50%;}#sk-container-id-1 div.sk-parallel-item:last-child::after {align-self: flex-start;width: 50%;}#sk-container-id-1 div.sk-parallel-item:only-child::after {width: 0;}#sk-container-id-1 div.sk-dashed-wrapped {border: 1px dashed gray;margin: 0 0.4em 0.5em 0.4em;box-sizing: border-box;padding-bottom: 0.4em;background-color: white;}#sk-container-id-1 div.sk-label label {font-family: monospace;font-weight: bold;display: inline-block;line-height: 1.2em;}#sk-container-id-1 div.sk-label-container {text-align: center;}#sk-container-id-1 div.sk-container {/* jupyter's `normalize.less` sets `[hidden] { display: none; }` but bootstrap.min.css set `[hidden] { display: none !important; }` so we also need the `!important` here to be able to override the default hidden behavior on the sphinx rendered scikit-learn.org. See: https://github.com/scikit-learn/scikit-learn/issues/21755 */display: inline-block !important;position: relative;}#sk-container-id-1 div.sk-text-repr-fallback {display: none;}</style><div id=\"sk-container-id-1\" class=\"sk-top-container\"><div class=\"sk-text-repr-fallback\"><pre>ColumnTransformer(transformers=[(&#x27;pipeline-1&#x27;,\n",
       "                                 Pipeline(steps=[(&#x27;simpleimputer&#x27;,\n",
       "                                                  SimpleImputer(strategy=&#x27;median&#x27;))]),\n",
       "                                 &lt;sklearn.compose._column_transformer.make_column_selector object at 0x152b7bee0&gt;),\n",
       "                                (&#x27;pipeline-2&#x27;,\n",
       "                                 Pipeline(steps=[(&#x27;simpleimputer&#x27;,\n",
       "                                                  SimpleImputer(fill_value=&#x27;MISSING&#x27;,\n",
       "                                                                strategy=&#x27;constant&#x27;)),\n",
       "                                                 (&#x27;onehotencoder&#x27;,\n",
       "                                                  OneHotEncoder(handle_unknown=&#x27;ignore&#x27;,\n",
       "                                                                sparse=False))]),\n",
       "                                 &lt;sklearn.compose._column_transformer.make_column_selector object at 0x152b7baf0&gt;)],\n",
       "                  verbose_feature_names_out=False)</pre><b>In a Jupyter environment, please rerun this cell to show the HTML representation or trust the notebook. <br />On GitHub, the HTML representation is unable to render, please try loading this page with nbviewer.org.</b></div><div class=\"sk-container\" hidden><div class=\"sk-item sk-dashed-wrapped\"><div class=\"sk-label-container\"><div class=\"sk-label sk-toggleable\"><input class=\"sk-toggleable__control sk-hidden--visually\" id=\"sk-estimator-id-1\" type=\"checkbox\" ><label for=\"sk-estimator-id-1\" class=\"sk-toggleable__label sk-toggleable__label-arrow\">ColumnTransformer</label><div class=\"sk-toggleable__content\"><pre>ColumnTransformer(transformers=[(&#x27;pipeline-1&#x27;,\n",
       "                                 Pipeline(steps=[(&#x27;simpleimputer&#x27;,\n",
       "                                                  SimpleImputer(strategy=&#x27;median&#x27;))]),\n",
       "                                 &lt;sklearn.compose._column_transformer.make_column_selector object at 0x152b7bee0&gt;),\n",
       "                                (&#x27;pipeline-2&#x27;,\n",
       "                                 Pipeline(steps=[(&#x27;simpleimputer&#x27;,\n",
       "                                                  SimpleImputer(fill_value=&#x27;MISSING&#x27;,\n",
       "                                                                strategy=&#x27;constant&#x27;)),\n",
       "                                                 (&#x27;onehotencoder&#x27;,\n",
       "                                                  OneHotEncoder(handle_unknown=&#x27;ignore&#x27;,\n",
       "                                                                sparse=False))]),\n",
       "                                 &lt;sklearn.compose._column_transformer.make_column_selector object at 0x152b7baf0&gt;)],\n",
       "                  verbose_feature_names_out=False)</pre></div></div></div><div class=\"sk-parallel\"><div class=\"sk-parallel-item\"><div class=\"sk-item\"><div class=\"sk-label-container\"><div class=\"sk-label sk-toggleable\"><input class=\"sk-toggleable__control sk-hidden--visually\" id=\"sk-estimator-id-2\" type=\"checkbox\" ><label for=\"sk-estimator-id-2\" class=\"sk-toggleable__label sk-toggleable__label-arrow\">pipeline-1</label><div class=\"sk-toggleable__content\"><pre>&lt;sklearn.compose._column_transformer.make_column_selector object at 0x152b7bee0&gt;</pre></div></div></div><div class=\"sk-serial\"><div class=\"sk-item\"><div class=\"sk-serial\"><div class=\"sk-item\"><div class=\"sk-estimator sk-toggleable\"><input class=\"sk-toggleable__control sk-hidden--visually\" id=\"sk-estimator-id-3\" type=\"checkbox\" ><label for=\"sk-estimator-id-3\" class=\"sk-toggleable__label sk-toggleable__label-arrow\">SimpleImputer</label><div class=\"sk-toggleable__content\"><pre>SimpleImputer(strategy=&#x27;median&#x27;)</pre></div></div></div></div></div></div></div></div><div class=\"sk-parallel-item\"><div class=\"sk-item\"><div class=\"sk-label-container\"><div class=\"sk-label sk-toggleable\"><input class=\"sk-toggleable__control sk-hidden--visually\" id=\"sk-estimator-id-4\" type=\"checkbox\" ><label for=\"sk-estimator-id-4\" class=\"sk-toggleable__label sk-toggleable__label-arrow\">pipeline-2</label><div class=\"sk-toggleable__content\"><pre>&lt;sklearn.compose._column_transformer.make_column_selector object at 0x152b7baf0&gt;</pre></div></div></div><div class=\"sk-serial\"><div class=\"sk-item\"><div class=\"sk-serial\"><div class=\"sk-item\"><div class=\"sk-estimator sk-toggleable\"><input class=\"sk-toggleable__control sk-hidden--visually\" id=\"sk-estimator-id-5\" type=\"checkbox\" ><label for=\"sk-estimator-id-5\" class=\"sk-toggleable__label sk-toggleable__label-arrow\">SimpleImputer</label><div class=\"sk-toggleable__content\"><pre>SimpleImputer(fill_value=&#x27;MISSING&#x27;, strategy=&#x27;constant&#x27;)</pre></div></div></div><div class=\"sk-item\"><div class=\"sk-estimator sk-toggleable\"><input class=\"sk-toggleable__control sk-hidden--visually\" id=\"sk-estimator-id-6\" type=\"checkbox\" ><label for=\"sk-estimator-id-6\" class=\"sk-toggleable__label sk-toggleable__label-arrow\">OneHotEncoder</label><div class=\"sk-toggleable__content\"><pre>OneHotEncoder(handle_unknown=&#x27;ignore&#x27;, sparse=False)</pre></div></div></div></div></div></div></div></div></div></div></div></div>"
      ],
      "text/plain": [
       "ColumnTransformer(transformers=[('pipeline-1',\n",
       "                                 Pipeline(steps=[('simpleimputer',\n",
       "                                                  SimpleImputer(strategy='median'))]),\n",
       "                                 <sklearn.compose._column_transformer.make_column_selector object at 0x152b7bee0>),\n",
       "                                ('pipeline-2',\n",
       "                                 Pipeline(steps=[('simpleimputer',\n",
       "                                                  SimpleImputer(fill_value='MISSING',\n",
       "                                                                strategy='constant')),\n",
       "                                                 ('onehotencoder',\n",
       "                                                  OneHotEncoder(handle_unknown='ignore',\n",
       "                                                                sparse=False))]),\n",
       "                                 <sklearn.compose._column_transformer.make_column_selector object at 0x152b7baf0>)],\n",
       "                  verbose_feature_names_out=False)"
      ]
     },
     "execution_count": 23,
     "metadata": {},
     "output_type": "execute_result"
    }
   ],
   "source": [
    "## make preprocessor using column transformer\n",
    "preprocessor = make_column_transformer((num_pipe, num_sel),\n",
    "                                       (cat_pipe,cat_sel),                                      \n",
    "                                       verbose_feature_names_out=False)\n",
    "preprocessor"
   ]
  },
  {
   "cell_type": "markdown",
   "metadata": {
    "id": "7y6BVQaUTlXc"
   },
   "source": [
    "##### Fit on Training data and get column names"
   ]
  },
  {
   "cell_type": "code",
   "execution_count": 24,
   "metadata": {},
   "outputs": [
    {
     "data": {
      "text/plain": [
       "array(['Item_Weight', 'Item_Visibility', 'Item_MRP',\n",
       "       'Item_Fat_Content_Low Fat', 'Item_Fat_Content_Regular',\n",
       "       'Item_Type_Baking Goods', 'Item_Type_Breads',\n",
       "       'Item_Type_Breakfast', 'Item_Type_Canned', 'Item_Type_Dairy',\n",
       "       'Item_Type_Frozen Foods', 'Item_Type_Fruits and Vegetables',\n",
       "       'Item_Type_Hard Drinks', 'Item_Type_Health and Hygiene',\n",
       "       'Item_Type_Household', 'Item_Type_Meat', 'Item_Type_Others',\n",
       "       'Item_Type_Seafood', 'Item_Type_Snack Foods',\n",
       "       'Item_Type_Soft Drinks', 'Item_Type_Starchy Foods',\n",
       "       'Outlet_Size_High', 'Outlet_Size_MISSING', 'Outlet_Size_Medium',\n",
       "       'Outlet_Size_Small', 'Outlet_Location_Type_Tier 1',\n",
       "       'Outlet_Location_Type_Tier 2', 'Outlet_Location_Type_Tier 3',\n",
       "       'Outlet_Type_Grocery Store', 'Outlet_Type_Supermarket Type1',\n",
       "       'Outlet_Type_Supermarket Type2', 'Outlet_Type_Supermarket Type3'],\n",
       "      dtype=object)"
      ]
     },
     "execution_count": 24,
     "metadata": {},
     "output_type": "execute_result"
    }
   ],
   "source": [
    "## fit column transformer and run get_feature_names_out\n",
    "preprocessor.fit(X_train)\n",
    "feature_names = preprocessor.get_feature_names_out()\n",
    "feature_names"
   ]
  },
  {
   "cell_type": "code",
   "execution_count": 25,
   "metadata": {},
   "outputs": [
    {
     "data": {
      "text/html": [
       "<div>\n",
       "<style scoped>\n",
       "    .dataframe tbody tr th:only-of-type {\n",
       "        vertical-align: middle;\n",
       "    }\n",
       "\n",
       "    .dataframe tbody tr th {\n",
       "        vertical-align: top;\n",
       "    }\n",
       "\n",
       "    .dataframe thead th {\n",
       "        text-align: right;\n",
       "    }\n",
       "</style>\n",
       "<table border=\"1\" class=\"dataframe\">\n",
       "  <thead>\n",
       "    <tr style=\"text-align: right;\">\n",
       "      <th></th>\n",
       "      <th>Item_Weight</th>\n",
       "      <th>Item_Visibility</th>\n",
       "      <th>Item_MRP</th>\n",
       "      <th>Item_Fat_Content_Low Fat</th>\n",
       "      <th>Item_Fat_Content_Regular</th>\n",
       "      <th>Item_Type_Baking Goods</th>\n",
       "      <th>Item_Type_Breads</th>\n",
       "      <th>Item_Type_Breakfast</th>\n",
       "      <th>Item_Type_Canned</th>\n",
       "      <th>Item_Type_Dairy</th>\n",
       "      <th>Item_Type_Frozen Foods</th>\n",
       "      <th>Item_Type_Fruits and Vegetables</th>\n",
       "      <th>Item_Type_Hard Drinks</th>\n",
       "      <th>Item_Type_Health and Hygiene</th>\n",
       "      <th>Item_Type_Household</th>\n",
       "      <th>Item_Type_Meat</th>\n",
       "      <th>Item_Type_Others</th>\n",
       "      <th>Item_Type_Seafood</th>\n",
       "      <th>Item_Type_Snack Foods</th>\n",
       "      <th>Item_Type_Soft Drinks</th>\n",
       "      <th>Item_Type_Starchy Foods</th>\n",
       "      <th>Outlet_Size_High</th>\n",
       "      <th>Outlet_Size_MISSING</th>\n",
       "      <th>Outlet_Size_Medium</th>\n",
       "      <th>Outlet_Size_Small</th>\n",
       "      <th>Outlet_Location_Type_Tier 1</th>\n",
       "      <th>Outlet_Location_Type_Tier 2</th>\n",
       "      <th>Outlet_Location_Type_Tier 3</th>\n",
       "      <th>Outlet_Type_Grocery Store</th>\n",
       "      <th>Outlet_Type_Supermarket Type1</th>\n",
       "      <th>Outlet_Type_Supermarket Type2</th>\n",
       "      <th>Outlet_Type_Supermarket Type3</th>\n",
       "    </tr>\n",
       "  </thead>\n",
       "  <tbody>\n",
       "    <tr>\n",
       "      <th>4776</th>\n",
       "      <td>16.35</td>\n",
       "      <td>0.03</td>\n",
       "      <td>256.46</td>\n",
       "      <td>1.00</td>\n",
       "      <td>0.00</td>\n",
       "      <td>0.00</td>\n",
       "      <td>0.00</td>\n",
       "      <td>0.00</td>\n",
       "      <td>0.00</td>\n",
       "      <td>0.00</td>\n",
       "      <td>0.00</td>\n",
       "      <td>0.00</td>\n",
       "      <td>0.00</td>\n",
       "      <td>0.00</td>\n",
       "      <td>1.00</td>\n",
       "      <td>0.00</td>\n",
       "      <td>0.00</td>\n",
       "      <td>0.00</td>\n",
       "      <td>0.00</td>\n",
       "      <td>0.00</td>\n",
       "      <td>0.00</td>\n",
       "      <td>0.00</td>\n",
       "      <td>0.00</td>\n",
       "      <td>1.00</td>\n",
       "      <td>0.00</td>\n",
       "      <td>0.00</td>\n",
       "      <td>0.00</td>\n",
       "      <td>1.00</td>\n",
       "      <td>0.00</td>\n",
       "      <td>0.00</td>\n",
       "      <td>1.00</td>\n",
       "      <td>0.00</td>\n",
       "    </tr>\n",
       "    <tr>\n",
       "      <th>7510</th>\n",
       "      <td>15.25</td>\n",
       "      <td>0.00</td>\n",
       "      <td>179.77</td>\n",
       "      <td>0.00</td>\n",
       "      <td>1.00</td>\n",
       "      <td>0.00</td>\n",
       "      <td>0.00</td>\n",
       "      <td>0.00</td>\n",
       "      <td>0.00</td>\n",
       "      <td>0.00</td>\n",
       "      <td>0.00</td>\n",
       "      <td>0.00</td>\n",
       "      <td>0.00</td>\n",
       "      <td>0.00</td>\n",
       "      <td>0.00</td>\n",
       "      <td>0.00</td>\n",
       "      <td>0.00</td>\n",
       "      <td>0.00</td>\n",
       "      <td>1.00</td>\n",
       "      <td>0.00</td>\n",
       "      <td>0.00</td>\n",
       "      <td>0.00</td>\n",
       "      <td>0.00</td>\n",
       "      <td>1.00</td>\n",
       "      <td>0.00</td>\n",
       "      <td>0.00</td>\n",
       "      <td>0.00</td>\n",
       "      <td>1.00</td>\n",
       "      <td>0.00</td>\n",
       "      <td>0.00</td>\n",
       "      <td>1.00</td>\n",
       "      <td>0.00</td>\n",
       "    </tr>\n",
       "    <tr>\n",
       "      <th>5828</th>\n",
       "      <td>12.35</td>\n",
       "      <td>0.16</td>\n",
       "      <td>157.29</td>\n",
       "      <td>0.00</td>\n",
       "      <td>1.00</td>\n",
       "      <td>0.00</td>\n",
       "      <td>0.00</td>\n",
       "      <td>0.00</td>\n",
       "      <td>0.00</td>\n",
       "      <td>0.00</td>\n",
       "      <td>0.00</td>\n",
       "      <td>0.00</td>\n",
       "      <td>0.00</td>\n",
       "      <td>0.00</td>\n",
       "      <td>0.00</td>\n",
       "      <td>1.00</td>\n",
       "      <td>0.00</td>\n",
       "      <td>0.00</td>\n",
       "      <td>0.00</td>\n",
       "      <td>0.00</td>\n",
       "      <td>0.00</td>\n",
       "      <td>0.00</td>\n",
       "      <td>0.00</td>\n",
       "      <td>1.00</td>\n",
       "      <td>0.00</td>\n",
       "      <td>1.00</td>\n",
       "      <td>0.00</td>\n",
       "      <td>0.00</td>\n",
       "      <td>0.00</td>\n",
       "      <td>1.00</td>\n",
       "      <td>0.00</td>\n",
       "      <td>0.00</td>\n",
       "    </tr>\n",
       "  </tbody>\n",
       "</table>\n",
       "</div>"
      ],
      "text/plain": [
       "      Item_Weight  Item_Visibility  Item_MRP  Item_Fat_Content_Low Fat  \\\n",
       "4776        16.35             0.03    256.46                      1.00   \n",
       "7510        15.25             0.00    179.77                      0.00   \n",
       "5828        12.35             0.16    157.29                      0.00   \n",
       "\n",
       "      Item_Fat_Content_Regular  Item_Type_Baking Goods  Item_Type_Breads  \\\n",
       "4776                      0.00                    0.00              0.00   \n",
       "7510                      1.00                    0.00              0.00   \n",
       "5828                      1.00                    0.00              0.00   \n",
       "\n",
       "      Item_Type_Breakfast  Item_Type_Canned  Item_Type_Dairy  \\\n",
       "4776                 0.00              0.00             0.00   \n",
       "7510                 0.00              0.00             0.00   \n",
       "5828                 0.00              0.00             0.00   \n",
       "\n",
       "      Item_Type_Frozen Foods  Item_Type_Fruits and Vegetables  \\\n",
       "4776                    0.00                             0.00   \n",
       "7510                    0.00                             0.00   \n",
       "5828                    0.00                             0.00   \n",
       "\n",
       "      Item_Type_Hard Drinks  Item_Type_Health and Hygiene  \\\n",
       "4776                   0.00                          0.00   \n",
       "7510                   0.00                          0.00   \n",
       "5828                   0.00                          0.00   \n",
       "\n",
       "      Item_Type_Household  Item_Type_Meat  Item_Type_Others  \\\n",
       "4776                 1.00            0.00              0.00   \n",
       "7510                 0.00            0.00              0.00   \n",
       "5828                 0.00            1.00              0.00   \n",
       "\n",
       "      Item_Type_Seafood  Item_Type_Snack Foods  Item_Type_Soft Drinks  \\\n",
       "4776               0.00                   0.00                   0.00   \n",
       "7510               0.00                   1.00                   0.00   \n",
       "5828               0.00                   0.00                   0.00   \n",
       "\n",
       "      Item_Type_Starchy Foods  Outlet_Size_High  Outlet_Size_MISSING  \\\n",
       "4776                     0.00              0.00                 0.00   \n",
       "7510                     0.00              0.00                 0.00   \n",
       "5828                     0.00              0.00                 0.00   \n",
       "\n",
       "      Outlet_Size_Medium  Outlet_Size_Small  Outlet_Location_Type_Tier 1  \\\n",
       "4776                1.00               0.00                         0.00   \n",
       "7510                1.00               0.00                         0.00   \n",
       "5828                1.00               0.00                         1.00   \n",
       "\n",
       "      Outlet_Location_Type_Tier 2  Outlet_Location_Type_Tier 3  \\\n",
       "4776                         0.00                         1.00   \n",
       "7510                         0.00                         1.00   \n",
       "5828                         0.00                         0.00   \n",
       "\n",
       "      Outlet_Type_Grocery Store  Outlet_Type_Supermarket Type1  \\\n",
       "4776                       0.00                           0.00   \n",
       "7510                       0.00                           0.00   \n",
       "5828                       0.00                           1.00   \n",
       "\n",
       "      Outlet_Type_Supermarket Type2  Outlet_Type_Supermarket Type3  \n",
       "4776                           1.00                           0.00  \n",
       "7510                           1.00                           0.00  \n",
       "5828                           0.00                           0.00  "
      ]
     },
     "execution_count": 25,
     "metadata": {},
     "output_type": "execute_result"
    }
   ],
   "source": [
    "X_train_df = pd.DataFrame(preprocessor.transform(X_train),\n",
    "                           columns = feature_names, index = X_train.index)\n",
    "X_train_df.head(3)"
   ]
  },
  {
   "cell_type": "code",
   "execution_count": 26,
   "metadata": {},
   "outputs": [
    {
     "data": {
      "text/html": [
       "<div>\n",
       "<style scoped>\n",
       "    .dataframe tbody tr th:only-of-type {\n",
       "        vertical-align: middle;\n",
       "    }\n",
       "\n",
       "    .dataframe tbody tr th {\n",
       "        vertical-align: top;\n",
       "    }\n",
       "\n",
       "    .dataframe thead th {\n",
       "        text-align: right;\n",
       "    }\n",
       "</style>\n",
       "<table border=\"1\" class=\"dataframe\">\n",
       "  <thead>\n",
       "    <tr style=\"text-align: right;\">\n",
       "      <th></th>\n",
       "      <th>Item_Weight</th>\n",
       "      <th>Item_Visibility</th>\n",
       "      <th>Item_MRP</th>\n",
       "      <th>Item_Fat_Content_Low Fat</th>\n",
       "      <th>Item_Fat_Content_Regular</th>\n",
       "      <th>Item_Type_Baking Goods</th>\n",
       "      <th>Item_Type_Breads</th>\n",
       "      <th>Item_Type_Breakfast</th>\n",
       "      <th>Item_Type_Canned</th>\n",
       "      <th>Item_Type_Dairy</th>\n",
       "      <th>Item_Type_Frozen Foods</th>\n",
       "      <th>Item_Type_Fruits and Vegetables</th>\n",
       "      <th>Item_Type_Hard Drinks</th>\n",
       "      <th>Item_Type_Health and Hygiene</th>\n",
       "      <th>Item_Type_Household</th>\n",
       "      <th>Item_Type_Meat</th>\n",
       "      <th>Item_Type_Others</th>\n",
       "      <th>Item_Type_Seafood</th>\n",
       "      <th>Item_Type_Snack Foods</th>\n",
       "      <th>Item_Type_Soft Drinks</th>\n",
       "      <th>Item_Type_Starchy Foods</th>\n",
       "      <th>Outlet_Size_High</th>\n",
       "      <th>Outlet_Size_MISSING</th>\n",
       "      <th>Outlet_Size_Medium</th>\n",
       "      <th>Outlet_Size_Small</th>\n",
       "      <th>Outlet_Location_Type_Tier 1</th>\n",
       "      <th>Outlet_Location_Type_Tier 2</th>\n",
       "      <th>Outlet_Location_Type_Tier 3</th>\n",
       "      <th>Outlet_Type_Grocery Store</th>\n",
       "      <th>Outlet_Type_Supermarket Type1</th>\n",
       "      <th>Outlet_Type_Supermarket Type2</th>\n",
       "      <th>Outlet_Type_Supermarket Type3</th>\n",
       "    </tr>\n",
       "  </thead>\n",
       "  <tbody>\n",
       "    <tr>\n",
       "      <th>7503</th>\n",
       "      <td>14.30</td>\n",
       "      <td>0.03</td>\n",
       "      <td>79.43</td>\n",
       "      <td>1.00</td>\n",
       "      <td>0.00</td>\n",
       "      <td>0.00</td>\n",
       "      <td>0.00</td>\n",
       "      <td>0.00</td>\n",
       "      <td>0.00</td>\n",
       "      <td>0.00</td>\n",
       "      <td>1.00</td>\n",
       "      <td>0.00</td>\n",
       "      <td>0.00</td>\n",
       "      <td>0.00</td>\n",
       "      <td>0.00</td>\n",
       "      <td>0.00</td>\n",
       "      <td>0.00</td>\n",
       "      <td>0.00</td>\n",
       "      <td>0.00</td>\n",
       "      <td>0.00</td>\n",
       "      <td>0.00</td>\n",
       "      <td>1.00</td>\n",
       "      <td>0.00</td>\n",
       "      <td>0.00</td>\n",
       "      <td>0.00</td>\n",
       "      <td>0.00</td>\n",
       "      <td>0.00</td>\n",
       "      <td>1.00</td>\n",
       "      <td>0.00</td>\n",
       "      <td>1.00</td>\n",
       "      <td>0.00</td>\n",
       "      <td>0.00</td>\n",
       "    </tr>\n",
       "    <tr>\n",
       "      <th>2957</th>\n",
       "      <td>7.93</td>\n",
       "      <td>0.07</td>\n",
       "      <td>42.71</td>\n",
       "      <td>1.00</td>\n",
       "      <td>0.00</td>\n",
       "      <td>0.00</td>\n",
       "      <td>0.00</td>\n",
       "      <td>0.00</td>\n",
       "      <td>0.00</td>\n",
       "      <td>0.00</td>\n",
       "      <td>0.00</td>\n",
       "      <td>0.00</td>\n",
       "      <td>0.00</td>\n",
       "      <td>1.00</td>\n",
       "      <td>0.00</td>\n",
       "      <td>0.00</td>\n",
       "      <td>0.00</td>\n",
       "      <td>0.00</td>\n",
       "      <td>0.00</td>\n",
       "      <td>0.00</td>\n",
       "      <td>0.00</td>\n",
       "      <td>0.00</td>\n",
       "      <td>0.00</td>\n",
       "      <td>0.00</td>\n",
       "      <td>1.00</td>\n",
       "      <td>1.00</td>\n",
       "      <td>0.00</td>\n",
       "      <td>0.00</td>\n",
       "      <td>0.00</td>\n",
       "      <td>1.00</td>\n",
       "      <td>0.00</td>\n",
       "      <td>0.00</td>\n",
       "    </tr>\n",
       "    <tr>\n",
       "      <th>7031</th>\n",
       "      <td>14.50</td>\n",
       "      <td>0.04</td>\n",
       "      <td>42.05</td>\n",
       "      <td>0.00</td>\n",
       "      <td>1.00</td>\n",
       "      <td>0.00</td>\n",
       "      <td>0.00</td>\n",
       "      <td>0.00</td>\n",
       "      <td>1.00</td>\n",
       "      <td>0.00</td>\n",
       "      <td>0.00</td>\n",
       "      <td>0.00</td>\n",
       "      <td>0.00</td>\n",
       "      <td>0.00</td>\n",
       "      <td>0.00</td>\n",
       "      <td>0.00</td>\n",
       "      <td>0.00</td>\n",
       "      <td>0.00</td>\n",
       "      <td>0.00</td>\n",
       "      <td>0.00</td>\n",
       "      <td>0.00</td>\n",
       "      <td>0.00</td>\n",
       "      <td>0.00</td>\n",
       "      <td>1.00</td>\n",
       "      <td>0.00</td>\n",
       "      <td>1.00</td>\n",
       "      <td>0.00</td>\n",
       "      <td>0.00</td>\n",
       "      <td>0.00</td>\n",
       "      <td>1.00</td>\n",
       "      <td>0.00</td>\n",
       "      <td>0.00</td>\n",
       "    </tr>\n",
       "  </tbody>\n",
       "</table>\n",
       "</div>"
      ],
      "text/plain": [
       "      Item_Weight  Item_Visibility  Item_MRP  Item_Fat_Content_Low Fat  \\\n",
       "7503        14.30             0.03     79.43                      1.00   \n",
       "2957         7.93             0.07     42.71                      1.00   \n",
       "7031        14.50             0.04     42.05                      0.00   \n",
       "\n",
       "      Item_Fat_Content_Regular  Item_Type_Baking Goods  Item_Type_Breads  \\\n",
       "7503                      0.00                    0.00              0.00   \n",
       "2957                      0.00                    0.00              0.00   \n",
       "7031                      1.00                    0.00              0.00   \n",
       "\n",
       "      Item_Type_Breakfast  Item_Type_Canned  Item_Type_Dairy  \\\n",
       "7503                 0.00              0.00             0.00   \n",
       "2957                 0.00              0.00             0.00   \n",
       "7031                 0.00              1.00             0.00   \n",
       "\n",
       "      Item_Type_Frozen Foods  Item_Type_Fruits and Vegetables  \\\n",
       "7503                    1.00                             0.00   \n",
       "2957                    0.00                             0.00   \n",
       "7031                    0.00                             0.00   \n",
       "\n",
       "      Item_Type_Hard Drinks  Item_Type_Health and Hygiene  \\\n",
       "7503                   0.00                          0.00   \n",
       "2957                   0.00                          1.00   \n",
       "7031                   0.00                          0.00   \n",
       "\n",
       "      Item_Type_Household  Item_Type_Meat  Item_Type_Others  \\\n",
       "7503                 0.00            0.00              0.00   \n",
       "2957                 0.00            0.00              0.00   \n",
       "7031                 0.00            0.00              0.00   \n",
       "\n",
       "      Item_Type_Seafood  Item_Type_Snack Foods  Item_Type_Soft Drinks  \\\n",
       "7503               0.00                   0.00                   0.00   \n",
       "2957               0.00                   0.00                   0.00   \n",
       "7031               0.00                   0.00                   0.00   \n",
       "\n",
       "      Item_Type_Starchy Foods  Outlet_Size_High  Outlet_Size_MISSING  \\\n",
       "7503                     0.00              1.00                 0.00   \n",
       "2957                     0.00              0.00                 0.00   \n",
       "7031                     0.00              0.00                 0.00   \n",
       "\n",
       "      Outlet_Size_Medium  Outlet_Size_Small  Outlet_Location_Type_Tier 1  \\\n",
       "7503                0.00               0.00                         0.00   \n",
       "2957                0.00               1.00                         1.00   \n",
       "7031                1.00               0.00                         1.00   \n",
       "\n",
       "      Outlet_Location_Type_Tier 2  Outlet_Location_Type_Tier 3  \\\n",
       "7503                         0.00                         1.00   \n",
       "2957                         0.00                         0.00   \n",
       "7031                         0.00                         0.00   \n",
       "\n",
       "      Outlet_Type_Grocery Store  Outlet_Type_Supermarket Type1  \\\n",
       "7503                       0.00                           1.00   \n",
       "2957                       0.00                           1.00   \n",
       "7031                       0.00                           1.00   \n",
       "\n",
       "      Outlet_Type_Supermarket Type2  Outlet_Type_Supermarket Type3  \n",
       "7503                           0.00                           0.00  \n",
       "2957                           0.00                           0.00  \n",
       "7031                           0.00                           0.00  "
      ]
     },
     "execution_count": 26,
     "metadata": {},
     "output_type": "execute_result"
    }
   ],
   "source": [
    "X_test_df = pd.DataFrame(preprocessor.transform(X_test),\n",
    "                           columns = feature_names, index = X_test.index)\n",
    "X_test_df.head(3)"
   ]
  },
  {
   "cell_type": "code",
   "execution_count": 27,
   "metadata": {},
   "outputs": [
    {
     "data": {
      "text/plain": [
       "7503   1,743.06\n",
       "2957     356.87\n",
       "7031     377.51\n",
       "Name: Item_Outlet_Sales, dtype: float64"
      ]
     },
     "execution_count": 27,
     "metadata": {},
     "output_type": "execute_result"
    }
   ],
   "source": [
    "## confirm the first 3 rows index in y_test matches X_test_df\n",
    "y_test.head(3)"
   ]
  },
  {
   "cell_type": "markdown",
   "metadata": {},
   "source": [
    "# **Defining Custom Functions**"
   ]
  },
  {
   "cell_type": "markdown",
   "metadata": {},
   "source": [
    "## Model Evaluation"
   ]
  },
  {
   "cell_type": "code",
   "execution_count": 28,
   "metadata": {},
   "outputs": [],
   "source": [
    "def evaluate_regression(model, X_train,y_train, X_test, y_test): \n",
    "    \"\"\"Evaluates a scikit learn regression model using r-squared and RMSE\"\"\"\n",
    "    \n",
    "    ## Training Data\n",
    "    y_pred_train = model.predict(X_train)\n",
    "    r2_train = metrics.r2_score(y_train, y_pred_train)\n",
    "    rmse_train = metrics.mean_squared_error(y_train, y_pred_train, \n",
    "                                            squared=False)\n",
    "    \n",
    "    print(f\"Training Data:\\tR^2= {r2_train:.2f}\\tRMSE= {rmse_train:.2f}\")\n",
    "        \n",
    "    \n",
    "    ## Test Data\n",
    "    y_pred_test = model.predict(X_test)\n",
    "    r2_test = metrics.r2_score(y_test, y_pred_test)\n",
    "    rmse_test = metrics.mean_squared_error(y_test, y_pred_test, \n",
    "                                            squared=False)\n",
    "    \n",
    "    print(f\"Test Data:\\tR^2= {r2_test:.2f}\\tRMSE= {rmse_test:.2f}\")"
   ]
  },
  {
   "cell_type": "markdown",
   "metadata": {},
   "source": [
    "## Feature Importances"
   ]
  },
  {
   "cell_type": "code",
   "execution_count": 29,
   "metadata": {},
   "outputs": [],
   "source": [
    "def get_importances(model, feature_names=None,name='Feature Importance',\n",
    "                   sort=False, ascending=True):\n",
    "    \n",
    "    ## checking for feature names\n",
    "    if feature_names == None:\n",
    "        feature_names = model.feature_names_in_\n",
    "        \n",
    "    ## Saving the feature importances\n",
    "    importances = pd.Series(model.feature_importances_, index= feature_names,\n",
    "                           name=name)\n",
    "    \n",
    "    # sort importances\n",
    "    if sort == True:\n",
    "        importances = importances.sort_values(ascending=ascending)\n",
    "        \n",
    "    return importances"
   ]
  },
  {
   "cell_type": "code",
   "execution_count": 30,
   "metadata": {},
   "outputs": [],
   "source": [
    "def get_color_dict(importances, color_rest='#006ba4' , color_top='green',\n",
    "                    top_n=7):\n",
    "    ## color -coding top 5 bars\n",
    "    highlight_feats = importances.sort_values(ascending=True).tail(top_n).index\n",
    "    colors_dict = {col: color_top if col in highlight_feats else color_rest for col in importances.index}\n",
    "    return colors_dict"
   ]
  },
  {
   "cell_type": "code",
   "execution_count": 31,
   "metadata": {},
   "outputs": [],
   "source": [
    "def plot_importance_color_ax(importances, top_n=None,  figsize=(8,6), \n",
    "                          color_dict=None, ax=None):\n",
    "    \n",
    "    # sorting with asc=false for correct order of bars\n",
    "    if top_n==None:\n",
    "        ## sort all features and set title\n",
    "        plot_vals = importances.sort_values()\n",
    "        title = \"All Features - Ranked by Importance\"\n",
    "    else:\n",
    "        ## sort features and keep top_n and set title\n",
    "        plot_vals = importances.sort_values().tail(top_n)\n",
    "        title = f\"Top {top_n} Most Important Features\"\n",
    "    ## create plot with colors, if provided\n",
    "    if color_dict is not None:\n",
    "        ## Getting color list and saving to plot_kws\n",
    "        colors = plot_vals.index.map(color_dict)\n",
    "        ax = plot_vals.plot(kind='barh', figsize=figsize, color=colors, ax=ax)\n",
    "        \n",
    "    else:\n",
    "        ## create plot without colors, if not provided\n",
    "        ax = plot_vals.plot(kind='barh', figsize=figsize, ax=ax)\n",
    "        \n",
    "    # set titles and axis labels\n",
    "    ax.set(xlabel='Importance', \n",
    "           ylabel='Feature Names', \n",
    "           title=title)\n",
    "    \n",
    "    ## return ax in case want to continue to update/modify figure\n",
    "    return ax"
   ]
  },
  {
   "cell_type": "markdown",
   "metadata": {},
   "source": [
    "## LinearRegression Coefficients"
   ]
  },
  {
   "cell_type": "code",
   "execution_count": 32,
   "metadata": {},
   "outputs": [],
   "source": [
    "def get_coeffs_linreg(lin_reg, feature_names = None, sort=True,ascending=True,\n",
    "                     name='LinearRegression Coefficients'):\n",
    "    if feature_names is None:\n",
    "        feature_names = lin_reg.feature_names_in_\n",
    "    ## Saving the coefficients\n",
    "    coeffs = pd.Series(lin_reg.coef_, index= feature_names)\n",
    "    coeffs['intercept'] = lin_reg.intercept_\n",
    "    if sort==True:\n",
    "        coeffs = coeffs.sort_values(ascending=ascending)\n",
    "    return coeffs"
   ]
  },
  {
   "cell_type": "markdown",
   "metadata": {},
   "source": [
    "## Annotating Horizontal Bars"
   ]
  },
  {
   "cell_type": "code",
   "execution_count": 33,
   "metadata": {},
   "outputs": [],
   "source": [
    "def annotate_hbars(ax, ha='left', va='center', size=12, xytext=(4,0),\n",
    "                  textcoords='offset points'):\n",
    "    for bar in ax.patches:\n",
    "    \n",
    "        ## calculate center of bar\n",
    "        bar_ax = bar.get_y() + bar.get_height() / 2\n",
    "        ## get the value to annotate\n",
    "        val = bar.get_width()\n",
    "        if val < 0:\n",
    "            val_pos = 0\n",
    "        else:\n",
    "            val_pos = val\n",
    "        # ha and va stand for the horizontal and vertical alignment\n",
    "        ax.annotate(f\"{val:.2f}\", (val_pos,bar_ax), ha=ha, va=va, size=size,\n",
    "                        xytext=xytext, textcoords=textcoords)\n"
   ]
  },
  {
   "cell_type": "markdown",
   "metadata": {},
   "source": [
    "## Visualize Coefficients + Add Annotation"
   ]
  },
  {
   "cell_type": "code",
   "execution_count": 34,
   "metadata": {},
   "outputs": [],
   "source": [
    "def plot_coeffs(coeffs, top_n=None, figsize=(4,5), \n",
    "                intercept=False, intercept_name=\"intercept\", \n",
    "                annotate=False, ha='left', va='center', size=12, \n",
    "                xytext=(4,0), textcoords='offset points'):\n",
    "    \"\"\" Plots the top_n coefficients from a Series, with optional annotations.\n",
    "    \"\"\"\n",
    "    # Drop intercept if intercept=False and \n",
    "    if (intercept == False) & (intercept_name in coeffs.index):\n",
    "        coeffs = coeffs.drop(intercept_name)\n",
    "    if top_n == None:\n",
    "        ## sort all features and set title\n",
    "        plot_vals = coeffs.sort_values()\n",
    "        title = \"All Coefficients - Ranked by Magnitude\"\n",
    "    else:\n",
    "        ## rank the coeffs and select the top_n\n",
    "        coeff_rank = coeffs.abs().rank().sort_values(ascending=False)\n",
    "        top_n_features = coeff_rank.head(top_n)\n",
    "        \n",
    "        ## sort features and keep top_n and set title\n",
    "        plot_vals = coeffs.loc[top_n_features.index].sort_values()\n",
    "        title = f\"Top {top_n} Largest Coefficients\"\n",
    "    ## plotting top N importances\n",
    "    ax = plot_vals.plot(kind='barh', figsize=figsize)\n",
    "    ax.set(xlabel='Coefficient', \n",
    "            ylabel='Feature Names', \n",
    "            title=title)\n",
    "    ax.axvline(0, color='k')\n",
    "    if annotate == True:\n",
    "        annotate_hbars(ax, ha=ha, va=va, size=size, xytext=xytext, textcoords=textcoords)\n",
    "    return ax"
   ]
  },
  {
   "cell_type": "markdown",
   "metadata": {
    "id": "KFnVS07VjcS_"
   },
   "source": [
    "# **Linear Regression Model**"
   ]
  },
  {
   "cell_type": "code",
   "execution_count": 35,
   "metadata": {
    "id": "xvC6k2H_kBLm"
   },
   "outputs": [
    {
     "data": {
      "text/html": [
       "<style>#sk-container-id-2 {color: black;background-color: white;}#sk-container-id-2 pre{padding: 0;}#sk-container-id-2 div.sk-toggleable {background-color: white;}#sk-container-id-2 label.sk-toggleable__label {cursor: pointer;display: block;width: 100%;margin-bottom: 0;padding: 0.3em;box-sizing: border-box;text-align: center;}#sk-container-id-2 label.sk-toggleable__label-arrow:before {content: \"▸\";float: left;margin-right: 0.25em;color: #696969;}#sk-container-id-2 label.sk-toggleable__label-arrow:hover:before {color: black;}#sk-container-id-2 div.sk-estimator:hover label.sk-toggleable__label-arrow:before {color: black;}#sk-container-id-2 div.sk-toggleable__content {max-height: 0;max-width: 0;overflow: hidden;text-align: left;background-color: #f0f8ff;}#sk-container-id-2 div.sk-toggleable__content pre {margin: 0.2em;color: black;border-radius: 0.25em;background-color: #f0f8ff;}#sk-container-id-2 input.sk-toggleable__control:checked~div.sk-toggleable__content {max-height: 200px;max-width: 100%;overflow: auto;}#sk-container-id-2 input.sk-toggleable__control:checked~label.sk-toggleable__label-arrow:before {content: \"▾\";}#sk-container-id-2 div.sk-estimator input.sk-toggleable__control:checked~label.sk-toggleable__label {background-color: #d4ebff;}#sk-container-id-2 div.sk-label input.sk-toggleable__control:checked~label.sk-toggleable__label {background-color: #d4ebff;}#sk-container-id-2 input.sk-hidden--visually {border: 0;clip: rect(1px 1px 1px 1px);clip: rect(1px, 1px, 1px, 1px);height: 1px;margin: -1px;overflow: hidden;padding: 0;position: absolute;width: 1px;}#sk-container-id-2 div.sk-estimator {font-family: monospace;background-color: #f0f8ff;border: 1px dotted black;border-radius: 0.25em;box-sizing: border-box;margin-bottom: 0.5em;}#sk-container-id-2 div.sk-estimator:hover {background-color: #d4ebff;}#sk-container-id-2 div.sk-parallel-item::after {content: \"\";width: 100%;border-bottom: 1px solid gray;flex-grow: 1;}#sk-container-id-2 div.sk-label:hover label.sk-toggleable__label {background-color: #d4ebff;}#sk-container-id-2 div.sk-serial::before {content: \"\";position: absolute;border-left: 1px solid gray;box-sizing: border-box;top: 0;bottom: 0;left: 50%;z-index: 0;}#sk-container-id-2 div.sk-serial {display: flex;flex-direction: column;align-items: center;background-color: white;padding-right: 0.2em;padding-left: 0.2em;position: relative;}#sk-container-id-2 div.sk-item {position: relative;z-index: 1;}#sk-container-id-2 div.sk-parallel {display: flex;align-items: stretch;justify-content: center;background-color: white;position: relative;}#sk-container-id-2 div.sk-item::before, #sk-container-id-2 div.sk-parallel-item::before {content: \"\";position: absolute;border-left: 1px solid gray;box-sizing: border-box;top: 0;bottom: 0;left: 50%;z-index: -1;}#sk-container-id-2 div.sk-parallel-item {display: flex;flex-direction: column;z-index: 1;position: relative;background-color: white;}#sk-container-id-2 div.sk-parallel-item:first-child::after {align-self: flex-end;width: 50%;}#sk-container-id-2 div.sk-parallel-item:last-child::after {align-self: flex-start;width: 50%;}#sk-container-id-2 div.sk-parallel-item:only-child::after {width: 0;}#sk-container-id-2 div.sk-dashed-wrapped {border: 1px dashed gray;margin: 0 0.4em 0.5em 0.4em;box-sizing: border-box;padding-bottom: 0.4em;background-color: white;}#sk-container-id-2 div.sk-label label {font-family: monospace;font-weight: bold;display: inline-block;line-height: 1.2em;}#sk-container-id-2 div.sk-label-container {text-align: center;}#sk-container-id-2 div.sk-container {/* jupyter's `normalize.less` sets `[hidden] { display: none; }` but bootstrap.min.css set `[hidden] { display: none !important; }` so we also need the `!important` here to be able to override the default hidden behavior on the sphinx rendered scikit-learn.org. See: https://github.com/scikit-learn/scikit-learn/issues/21755 */display: inline-block !important;position: relative;}#sk-container-id-2 div.sk-text-repr-fallback {display: none;}</style><div id=\"sk-container-id-2\" class=\"sk-top-container\"><div class=\"sk-text-repr-fallback\"><pre>LinearRegression()</pre><b>In a Jupyter environment, please rerun this cell to show the HTML representation or trust the notebook. <br />On GitHub, the HTML representation is unable to render, please try loading this page with nbviewer.org.</b></div><div class=\"sk-container\" hidden><div class=\"sk-item\"><div class=\"sk-estimator sk-toggleable\"><input class=\"sk-toggleable__control sk-hidden--visually\" id=\"sk-estimator-id-7\" type=\"checkbox\" checked><label for=\"sk-estimator-id-7\" class=\"sk-toggleable__label sk-toggleable__label-arrow\">LinearRegression</label><div class=\"sk-toggleable__content\"><pre>LinearRegression()</pre></div></div></div></div></div>"
      ],
      "text/plain": [
       "LinearRegression()"
      ]
     },
     "execution_count": 35,
     "metadata": {},
     "output_type": "execute_result"
    }
   ],
   "source": [
    "#Instantiate Model and Fit\n",
    "lin_reg = LinearRegression()\n",
    "lin_reg.fit(X_train_df,y_train)"
   ]
  },
  {
   "cell_type": "code",
   "execution_count": 36,
   "metadata": {
    "id": "tCmhctifkFQw"
   },
   "outputs": [
    {
     "name": "stdout",
     "output_type": "stream",
     "text": [
      "Training Data:\tR^2= 0.56\tRMSE= 1139.58\n",
      "Test Data:\tR^2= 0.57\tRMSE= 1094.27\n"
     ]
    }
   ],
   "source": [
    "#Evaluate model with regression metrics\n",
    "evaluate_regression(lin_reg, X_train_df, y_train, X_test_df,y_test)"
   ]
  },
  {
   "cell_type": "code",
   "execution_count": 37,
   "metadata": {},
   "outputs": [
    {
     "data": {
      "text/plain": [
       "Outlet_Type_Grocery Store         -1,607.68\n",
       "Item_Visibility                     -425.37\n",
       "Outlet_Type_Supermarket Type2       -183.28\n",
       "Item_Type_Dairy                     -123.64\n",
       "Outlet_Size_MISSING                 -118.52\n",
       "Outlet_Location_Type_Tier 1          -79.51\n",
       "intercept                            -76.83\n",
       "Item_Type_Soft Drinks                -57.94\n",
       "Item_Type_Breads                     -50.78\n",
       "Item_Type_Others                     -45.68\n",
       "Item_Type_Snack Foods                -39.95\n",
       "Item_Fat_Content_Low Fat             -31.92\n",
       "Item_Type_Meat                       -28.44\n",
       "Item_Type_Frozen Foods               -17.91\n",
       "Item_Type_Baking Goods               -16.36\n",
       "Item_Type_Household                  -12.59\n",
       "Item_Type_Hard Drinks                 -7.90\n",
       "Item_Weight                           -1.86\n",
       "Outlet_Size_High                       0.04\n",
       "Outlet_Size_Small                      3.43\n",
       "Item_Type_Canned                       8.69\n",
       "Item_Type_Health and Hygiene          10.36\n",
       "Outlet_Location_Type_Tier 3           11.89\n",
       "Item_MRP                              15.72\n",
       "Item_Type_Starchy Foods               25.05\n",
       "Item_Type_Fruits and Vegetables       25.84\n",
       "Item_Type_Breakfast                   28.63\n",
       "Item_Fat_Content_Regular              31.92\n",
       "Outlet_Location_Type_Tier 2           67.62\n",
       "Outlet_Size_Medium                   115.06\n",
       "Outlet_Type_Supermarket Type1        266.70\n",
       "Item_Type_Seafood                    302.60\n",
       "Outlet_Type_Supermarket Type3      1,524.25\n",
       "dtype: float64"
      ]
     },
     "execution_count": 37,
     "metadata": {},
     "output_type": "execute_result"
    }
   ],
   "source": [
    "#Get Coefficients\n",
    "coeffs = get_coeffs_linreg(lin_reg)\n",
    "coeffs"
   ]
  },
  {
   "cell_type": "markdown",
   "metadata": {},
   "source": [
    "## Top 10 Largest Coefficients"
   ]
  },
  {
   "cell_type": "code",
   "execution_count": 38,
   "metadata": {},
   "outputs": [
    {
     "data": {
      "image/png": "[encoded data removed]",
      "text/plain": [
       "<Figure size 400x500 with 1 Axes>"
      ]
     },
     "metadata": {},
     "output_type": "display_data"
    }
   ],
   "source": [
    "ax = plot_coeffs(coeffs,top_n=10,annotate=True);\n",
    "annotate_hbars(ax)"
   ]
  },
  {
   "cell_type": "markdown",
   "metadata": {},
   "source": [
    "## Top 3 Largest Coefficients"
   ]
  },
  {
   "cell_type": "code",
   "execution_count": 39,
   "metadata": {},
   "outputs": [
    {
     "data": {
      "image/png": "[encoded data removed]",
      "text/plain": [
       "<Figure size 400x500 with 1 Axes>"
      ]
     },
     "metadata": {},
     "output_type": "display_data"
    }
   ],
   "source": [
    "fig, ax = plt.subplots()\n",
    "ax = plot_coeffs(coeffs,top_n=3,annotate=True);\n",
    "annotate_hbars(ax)"
   ]
  },
  {
   "cell_type": "markdown",
   "metadata": {},
   "source": [
    "## Select the top 3 most impactful features and interpret their coefficients in plain english.\n"
   ]
  },
  {
   "cell_type": "markdown",
   "metadata": {},
   "source": [
    "1. Outlet_Type_Supermarket Type3:\n",
    "\n",
    "  - This feature has a **positive** influence on the target (Item_Outlet_Sales) with a coefficient of 1524.25. \n",
    "  - Since this is a One-Hot-Encoded Categorical feature, it means that if the item belongs to this category, the Item_Outlet_Sales will be **increased** by **1524.25** rupees. \n",
    "  \n",
    "\n",
    "2. Item_Visibility:\n",
    "    \n",
    " - This feature has a **negative** influence on the target (Item_Outlet_Sales) with a coefficient of -425.37.  \n",
    " - Since this is a scaled numeric feature, it means that when I increase the value for this feature by 1 standard deviation, the Item_Outlet_Sales will be **decreased** by **425.37** rupees.\n",
    "\n",
    "\n",
    "3. Outlet_Type_Grocery Store:\n",
    "\n",
    " - This feature has a **negative** influence on the target (Item_Outlet_Sales) with a coefficient of -1607.68.\n",
    " - Since this is a One-Hot-Encoded Categorical feature, it means that if the item belongs to this category, the Item_Outlet_Sales will be **decreased** by **1607.68** rupees."
   ]
  },
  {
   "cell_type": "markdown",
   "metadata": {},
   "source": [
    "## Save Figure as .PNG"
   ]
  },
  {
   "cell_type": "code",
   "execution_count": 40,
   "metadata": {},
   "outputs": [],
   "source": [
    "import os\n",
    "os.makedirs(\"images/\", exist_ok=True)"
   ]
  },
  {
   "cell_type": "code",
   "execution_count": 41,
   "metadata": {},
   "outputs": [],
   "source": [
    "fig.savefig('images/linear_regression_top3_coefficients.png', bbox_inches='tight')"
   ]
  },
  {
   "cell_type": "markdown",
   "metadata": {
    "id": "H8Pz_U3xGOfo"
   },
   "source": [
    "# **Random Forest Model**"
   ]
  },
  {
   "cell_type": "markdown",
   "metadata": {},
   "source": [
    "## Default Parameters"
   ]
  },
  {
   "cell_type": "code",
   "execution_count": 42,
   "metadata": {},
   "outputs": [
    {
     "data": {
      "text/html": [
       "<style>#sk-container-id-3 {color: black;background-color: white;}#sk-container-id-3 pre{padding: 0;}#sk-container-id-3 div.sk-toggleable {background-color: white;}#sk-container-id-3 label.sk-toggleable__label {cursor: pointer;display: block;width: 100%;margin-bottom: 0;padding: 0.3em;box-sizing: border-box;text-align: center;}#sk-container-id-3 label.sk-toggleable__label-arrow:before {content: \"▸\";float: left;margin-right: 0.25em;color: #696969;}#sk-container-id-3 label.sk-toggleable__label-arrow:hover:before {color: black;}#sk-container-id-3 div.sk-estimator:hover label.sk-toggleable__label-arrow:before {color: black;}#sk-container-id-3 div.sk-toggleable__content {max-height: 0;max-width: 0;overflow: hidden;text-align: left;background-color: #f0f8ff;}#sk-container-id-3 div.sk-toggleable__content pre {margin: 0.2em;color: black;border-radius: 0.25em;background-color: #f0f8ff;}#sk-container-id-3 input.sk-toggleable__control:checked~div.sk-toggleable__content {max-height: 200px;max-width: 100%;overflow: auto;}#sk-container-id-3 input.sk-toggleable__control:checked~label.sk-toggleable__label-arrow:before {content: \"▾\";}#sk-container-id-3 div.sk-estimator input.sk-toggleable__control:checked~label.sk-toggleable__label {background-color: #d4ebff;}#sk-container-id-3 div.sk-label input.sk-toggleable__control:checked~label.sk-toggleable__label {background-color: #d4ebff;}#sk-container-id-3 input.sk-hidden--visually {border: 0;clip: rect(1px 1px 1px 1px);clip: rect(1px, 1px, 1px, 1px);height: 1px;margin: -1px;overflow: hidden;padding: 0;position: absolute;width: 1px;}#sk-container-id-3 div.sk-estimator {font-family: monospace;background-color: #f0f8ff;border: 1px dotted black;border-radius: 0.25em;box-sizing: border-box;margin-bottom: 0.5em;}#sk-container-id-3 div.sk-estimator:hover {background-color: #d4ebff;}#sk-container-id-3 div.sk-parallel-item::after {content: \"\";width: 100%;border-bottom: 1px solid gray;flex-grow: 1;}#sk-container-id-3 div.sk-label:hover label.sk-toggleable__label {background-color: #d4ebff;}#sk-container-id-3 div.sk-serial::before {content: \"\";position: absolute;border-left: 1px solid gray;box-sizing: border-box;top: 0;bottom: 0;left: 50%;z-index: 0;}#sk-container-id-3 div.sk-serial {display: flex;flex-direction: column;align-items: center;background-color: white;padding-right: 0.2em;padding-left: 0.2em;position: relative;}#sk-container-id-3 div.sk-item {position: relative;z-index: 1;}#sk-container-id-3 div.sk-parallel {display: flex;align-items: stretch;justify-content: center;background-color: white;position: relative;}#sk-container-id-3 div.sk-item::before, #sk-container-id-3 div.sk-parallel-item::before {content: \"\";position: absolute;border-left: 1px solid gray;box-sizing: border-box;top: 0;bottom: 0;left: 50%;z-index: -1;}#sk-container-id-3 div.sk-parallel-item {display: flex;flex-direction: column;z-index: 1;position: relative;background-color: white;}#sk-container-id-3 div.sk-parallel-item:first-child::after {align-self: flex-end;width: 50%;}#sk-container-id-3 div.sk-parallel-item:last-child::after {align-self: flex-start;width: 50%;}#sk-container-id-3 div.sk-parallel-item:only-child::after {width: 0;}#sk-container-id-3 div.sk-dashed-wrapped {border: 1px dashed gray;margin: 0 0.4em 0.5em 0.4em;box-sizing: border-box;padding-bottom: 0.4em;background-color: white;}#sk-container-id-3 div.sk-label label {font-family: monospace;font-weight: bold;display: inline-block;line-height: 1.2em;}#sk-container-id-3 div.sk-label-container {text-align: center;}#sk-container-id-3 div.sk-container {/* jupyter's `normalize.less` sets `[hidden] { display: none; }` but bootstrap.min.css set `[hidden] { display: none !important; }` so we also need the `!important` here to be able to override the default hidden behavior on the sphinx rendered scikit-learn.org. See: https://github.com/scikit-learn/scikit-learn/issues/21755 */display: inline-block !important;position: relative;}#sk-container-id-3 div.sk-text-repr-fallback {display: none;}</style><div id=\"sk-container-id-3\" class=\"sk-top-container\"><div class=\"sk-text-repr-fallback\"><pre>RandomForestRegressor(random_state=42)</pre><b>In a Jupyter environment, please rerun this cell to show the HTML representation or trust the notebook. <br />On GitHub, the HTML representation is unable to render, please try loading this page with nbviewer.org.</b></div><div class=\"sk-container\" hidden><div class=\"sk-item\"><div class=\"sk-estimator sk-toggleable\"><input class=\"sk-toggleable__control sk-hidden--visually\" id=\"sk-estimator-id-8\" type=\"checkbox\" checked><label for=\"sk-estimator-id-8\" class=\"sk-toggleable__label sk-toggleable__label-arrow\">RandomForestRegressor</label><div class=\"sk-toggleable__content\"><pre>RandomForestRegressor(random_state=42)</pre></div></div></div></div></div>"
      ],
      "text/plain": [
       "RandomForestRegressor(random_state=42)"
      ]
     },
     "execution_count": 42,
     "metadata": {},
     "output_type": "execute_result"
    }
   ],
   "source": [
    "#Instantiate Model (default parameters) and Fit\n",
    "rf_reg = RandomForestRegressor(random_state=42)\n",
    "rf_reg.fit(X_train_df,y_train)"
   ]
  },
  {
   "cell_type": "code",
   "execution_count": 43,
   "metadata": {},
   "outputs": [
    {
     "name": "stdout",
     "output_type": "stream",
     "text": [
      "Training Data:\tR^2= 0.94\tRMSE= 431.95\n",
      "Test Data:\tR^2= 0.55\tRMSE= 1116.52\n"
     ]
    }
   ],
   "source": [
    "#Evaluate model with regression metrics\n",
    "evaluate_regression(rf_reg, X_train_df, y_train, X_test_df, y_test)"
   ]
  },
  {
   "cell_type": "code",
   "execution_count": 44,
   "metadata": {},
   "outputs": [
    {
     "data": {
      "text/plain": [
       "array([0.05251996, 0.10344788, 0.44717026, 0.00507703, 0.00515391,\n",
       "       0.00409504, 0.00249088, 0.00267319, 0.00439933, 0.00602576,\n",
       "       0.00571794, 0.00808848, 0.00303663, 0.00396491, 0.0064734 ,\n",
       "       0.00349321, 0.00159165, 0.00170405, 0.00823204, 0.00535945,\n",
       "       0.00343733, 0.00475957, 0.00607471, 0.00531671, 0.00800186,\n",
       "       0.00624193, 0.0060452 , 0.00409272, 0.19172982, 0.00305989,\n",
       "       0.00286243, 0.07766281])"
      ]
     },
     "execution_count": 44,
     "metadata": {},
     "output_type": "execute_result"
    }
   ],
   "source": [
    "#Extract Feature Importances\n",
    "rf_reg.feature_importances_"
   ]
  },
  {
   "cell_type": "code",
   "execution_count": 45,
   "metadata": {},
   "outputs": [
    {
     "data": {
      "text/plain": [
       "Item_Weight                       0.05\n",
       "Item_Visibility                   0.10\n",
       "Item_MRP                          0.45\n",
       "Item_Fat_Content_Low Fat          0.01\n",
       "Item_Fat_Content_Regular          0.01\n",
       "Item_Type_Baking Goods            0.00\n",
       "Item_Type_Breads                  0.00\n",
       "Item_Type_Breakfast               0.00\n",
       "Item_Type_Canned                  0.00\n",
       "Item_Type_Dairy                   0.01\n",
       "Item_Type_Frozen Foods            0.01\n",
       "Item_Type_Fruits and Vegetables   0.01\n",
       "Item_Type_Hard Drinks             0.00\n",
       "Item_Type_Health and Hygiene      0.00\n",
       "Item_Type_Household               0.01\n",
       "Item_Type_Meat                    0.00\n",
       "Item_Type_Others                  0.00\n",
       "Item_Type_Seafood                 0.00\n",
       "Item_Type_Snack Foods             0.01\n",
       "Item_Type_Soft Drinks             0.01\n",
       "Item_Type_Starchy Foods           0.00\n",
       "Outlet_Size_High                  0.00\n",
       "Outlet_Size_MISSING               0.01\n",
       "Outlet_Size_Medium                0.01\n",
       "Outlet_Size_Small                 0.01\n",
       "Outlet_Location_Type_Tier 1       0.01\n",
       "Outlet_Location_Type_Tier 2       0.01\n",
       "Outlet_Location_Type_Tier 3       0.00\n",
       "Outlet_Type_Grocery Store         0.19\n",
       "Outlet_Type_Supermarket Type1     0.00\n",
       "Outlet_Type_Supermarket Type2     0.00\n",
       "Outlet_Type_Supermarket Type3     0.08\n",
       "Name: Feature Importance, dtype: float64"
      ]
     },
     "execution_count": 45,
     "metadata": {},
     "output_type": "execute_result"
    }
   ],
   "source": [
    "## Save the feature importances as a Pandas Series\n",
    "importances = pd.Series(rf_reg.feature_importances_, index= feature_names,\n",
    "                       name='Feature Importance')\n",
    "importances"
   ]
  },
  {
   "cell_type": "code",
   "execution_count": 46,
   "metadata": {},
   "outputs": [
    {
     "data": {
      "text/plain": [
       "Item_Type_Others                  0.00\n",
       "Item_Type_Seafood                 0.00\n",
       "Item_Type_Breads                  0.00\n",
       "Item_Type_Breakfast               0.00\n",
       "Outlet_Type_Supermarket Type2     0.00\n",
       "Item_Type_Hard Drinks             0.00\n",
       "Outlet_Type_Supermarket Type1     0.00\n",
       "Item_Type_Starchy Foods           0.00\n",
       "Item_Type_Meat                    0.00\n",
       "Item_Type_Health and Hygiene      0.00\n",
       "Outlet_Location_Type_Tier 3       0.00\n",
       "Item_Type_Baking Goods            0.00\n",
       "Item_Type_Canned                  0.00\n",
       "Outlet_Size_High                  0.00\n",
       "Item_Fat_Content_Low Fat          0.01\n",
       "Item_Fat_Content_Regular          0.01\n",
       "Outlet_Size_Medium                0.01\n",
       "Item_Type_Soft Drinks             0.01\n",
       "Item_Type_Frozen Foods            0.01\n",
       "Item_Type_Dairy                   0.01\n",
       "Outlet_Location_Type_Tier 2       0.01\n",
       "Outlet_Size_MISSING               0.01\n",
       "Outlet_Location_Type_Tier 1       0.01\n",
       "Item_Type_Household               0.01\n",
       "Outlet_Size_Small                 0.01\n",
       "Item_Type_Fruits and Vegetables   0.01\n",
       "Item_Type_Snack Foods             0.01\n",
       "Item_Weight                       0.05\n",
       "Outlet_Type_Supermarket Type3     0.08\n",
       "Item_Visibility                   0.10\n",
       "Outlet_Type_Grocery Store         0.19\n",
       "Item_MRP                          0.45\n",
       "Name: Feature Importance, dtype: float64"
      ]
     },
     "execution_count": 46,
     "metadata": {},
     "output_type": "execute_result"
    }
   ],
   "source": [
    "## Saving the feature importances sorted from smallest to largest (ascending=True)\n",
    "sorted_importance = importances.sort_values()\n",
    "sorted_importance"
   ]
  },
  {
   "cell_type": "markdown",
   "metadata": {},
   "source": [
    "### Top 5 Most Important Features"
   ]
  },
  {
   "cell_type": "code",
   "execution_count": 47,
   "metadata": {},
   "outputs": [
    {
     "data": {
      "image/png": "[encoded data removed]",
      "text/plain": [
       "<Figure size 700x500 with 1 Axes>"
      ]
     },
     "metadata": {},
     "output_type": "display_data"
    }
   ],
   "source": [
    "## plot top 5 importances\n",
    "fig, ax = plt.subplots()\n",
    "ax = sorted_importance.tail(5).plot(kind='barh',\n",
    "                                    figsize=(7,5),\n",
    "                                      )\n",
    "ax.set(xlabel='Importance',\n",
    "        ylabel='Feature Names',\n",
    "        title='Top 5 Most Important Features');\n",
    "plt.tight_layout()"
   ]
  },
  {
   "cell_type": "markdown",
   "metadata": {},
   "source": [
    "### Identify the top 5 most important features."
   ]
  },
  {
   "cell_type": "markdown",
   "metadata": {},
   "source": [
    "The top 5 most important features are:\n",
    "    \n",
    "    - Item_MRP\n",
    "    - Outlet_Type_Grocery Store\n",
    "    - Item_Visibility\n",
    "    - Outlet_Type_Supermarket Type3\n",
    "    - Item_Weight"
   ]
  },
  {
   "cell_type": "markdown",
   "metadata": {},
   "source": [
    "### Save Figure as .PNG"
   ]
  },
  {
   "cell_type": "code",
   "execution_count": 48,
   "metadata": {},
   "outputs": [],
   "source": [
    "fig.savefig('images/default_random_forest_top5_important_features.png', bbox_inches='tight')"
   ]
  },
  {
   "cell_type": "markdown",
   "metadata": {},
   "source": [
    "## Tuned Model"
   ]
  },
  {
   "cell_type": "markdown",
   "metadata": {},
   "source": [
    "Using the optimized random forest model that was tuned previously."
   ]
  },
  {
   "cell_type": "code",
   "execution_count": 49,
   "metadata": {},
   "outputs": [
    {
     "data": {
      "text/html": [
       "<style>#sk-container-id-4 {color: black;background-color: white;}#sk-container-id-4 pre{padding: 0;}#sk-container-id-4 div.sk-toggleable {background-color: white;}#sk-container-id-4 label.sk-toggleable__label {cursor: pointer;display: block;width: 100%;margin-bottom: 0;padding: 0.3em;box-sizing: border-box;text-align: center;}#sk-container-id-4 label.sk-toggleable__label-arrow:before {content: \"▸\";float: left;margin-right: 0.25em;color: #696969;}#sk-container-id-4 label.sk-toggleable__label-arrow:hover:before {color: black;}#sk-container-id-4 div.sk-estimator:hover label.sk-toggleable__label-arrow:before {color: black;}#sk-container-id-4 div.sk-toggleable__content {max-height: 0;max-width: 0;overflow: hidden;text-align: left;background-color: #f0f8ff;}#sk-container-id-4 div.sk-toggleable__content pre {margin: 0.2em;color: black;border-radius: 0.25em;background-color: #f0f8ff;}#sk-container-id-4 input.sk-toggleable__control:checked~div.sk-toggleable__content {max-height: 200px;max-width: 100%;overflow: auto;}#sk-container-id-4 input.sk-toggleable__control:checked~label.sk-toggleable__label-arrow:before {content: \"▾\";}#sk-container-id-4 div.sk-estimator input.sk-toggleable__control:checked~label.sk-toggleable__label {background-color: #d4ebff;}#sk-container-id-4 div.sk-label input.sk-toggleable__control:checked~label.sk-toggleable__label {background-color: #d4ebff;}#sk-container-id-4 input.sk-hidden--visually {border: 0;clip: rect(1px 1px 1px 1px);clip: rect(1px, 1px, 1px, 1px);height: 1px;margin: -1px;overflow: hidden;padding: 0;position: absolute;width: 1px;}#sk-container-id-4 div.sk-estimator {font-family: monospace;background-color: #f0f8ff;border: 1px dotted black;border-radius: 0.25em;box-sizing: border-box;margin-bottom: 0.5em;}#sk-container-id-4 div.sk-estimator:hover {background-color: #d4ebff;}#sk-container-id-4 div.sk-parallel-item::after {content: \"\";width: 100%;border-bottom: 1px solid gray;flex-grow: 1;}#sk-container-id-4 div.sk-label:hover label.sk-toggleable__label {background-color: #d4ebff;}#sk-container-id-4 div.sk-serial::before {content: \"\";position: absolute;border-left: 1px solid gray;box-sizing: border-box;top: 0;bottom: 0;left: 50%;z-index: 0;}#sk-container-id-4 div.sk-serial {display: flex;flex-direction: column;align-items: center;background-color: white;padding-right: 0.2em;padding-left: 0.2em;position: relative;}#sk-container-id-4 div.sk-item {position: relative;z-index: 1;}#sk-container-id-4 div.sk-parallel {display: flex;align-items: stretch;justify-content: center;background-color: white;position: relative;}#sk-container-id-4 div.sk-item::before, #sk-container-id-4 div.sk-parallel-item::before {content: \"\";position: absolute;border-left: 1px solid gray;box-sizing: border-box;top: 0;bottom: 0;left: 50%;z-index: -1;}#sk-container-id-4 div.sk-parallel-item {display: flex;flex-direction: column;z-index: 1;position: relative;background-color: white;}#sk-container-id-4 div.sk-parallel-item:first-child::after {align-self: flex-end;width: 50%;}#sk-container-id-4 div.sk-parallel-item:last-child::after {align-self: flex-start;width: 50%;}#sk-container-id-4 div.sk-parallel-item:only-child::after {width: 0;}#sk-container-id-4 div.sk-dashed-wrapped {border: 1px dashed gray;margin: 0 0.4em 0.5em 0.4em;box-sizing: border-box;padding-bottom: 0.4em;background-color: white;}#sk-container-id-4 div.sk-label label {font-family: monospace;font-weight: bold;display: inline-block;line-height: 1.2em;}#sk-container-id-4 div.sk-label-container {text-align: center;}#sk-container-id-4 div.sk-container {/* jupyter's `normalize.less` sets `[hidden] { display: none; }` but bootstrap.min.css set `[hidden] { display: none !important; }` so we also need the `!important` here to be able to override the default hidden behavior on the sphinx rendered scikit-learn.org. See: https://github.com/scikit-learn/scikit-learn/issues/21755 */display: inline-block !important;position: relative;}#sk-container-id-4 div.sk-text-repr-fallback {display: none;}</style><div id=\"sk-container-id-4\" class=\"sk-top-container\"><div class=\"sk-text-repr-fallback\"><pre>RandomForestRegressor(max_depth=5, n_estimators=150, random_state=42)</pre><b>In a Jupyter environment, please rerun this cell to show the HTML representation or trust the notebook. <br />On GitHub, the HTML representation is unable to render, please try loading this page with nbviewer.org.</b></div><div class=\"sk-container\" hidden><div class=\"sk-item\"><div class=\"sk-estimator sk-toggleable\"><input class=\"sk-toggleable__control sk-hidden--visually\" id=\"sk-estimator-id-9\" type=\"checkbox\" checked><label for=\"sk-estimator-id-9\" class=\"sk-toggleable__label sk-toggleable__label-arrow\">RandomForestRegressor</label><div class=\"sk-toggleable__content\"><pre>RandomForestRegressor(max_depth=5, n_estimators=150, random_state=42)</pre></div></div></div></div></div>"
      ],
      "text/plain": [
       "RandomForestRegressor(max_depth=5, n_estimators=150, random_state=42)"
      ]
     },
     "execution_count": 49,
     "metadata": {},
     "output_type": "execute_result"
    }
   ],
   "source": [
    "#Instantiate Model (tuned) and Fit\n",
    "optimized_rf = RandomForestRegressor(max_depth=5, n_estimators=150, random_state=42)\n",
    "optimized_rf.fit(X_train_df,y_train)"
   ]
  },
  {
   "cell_type": "code",
   "execution_count": 50,
   "metadata": {},
   "outputs": [
    {
     "name": "stdout",
     "output_type": "stream",
     "text": [
      "Training Data:\tR^2= 0.61\tRMSE= 1073.83\n",
      "Test Data:\tR^2= 0.60\tRMSE= 1046.59\n"
     ]
    }
   ],
   "source": [
    "#Evaluate model with regression metrics\n",
    "evaluate_regression(optimized_rf, X_train_df, y_train, X_test_df, y_test)"
   ]
  },
  {
   "cell_type": "code",
   "execution_count": 51,
   "metadata": {},
   "outputs": [
    {
     "data": {
      "text/plain": [
       "array([2.00354024e-04, 2.14652161e-03, 5.52896283e-01, 3.58414627e-05,\n",
       "       2.12428807e-05, 3.39201759e-05, 1.65724254e-05, 4.33276170e-05,\n",
       "       3.61349619e-05, 6.73288254e-05, 8.79669204e-05, 2.21324005e-04,\n",
       "       9.25799749e-05, 1.32079244e-04, 1.22598636e-04, 7.51394327e-05,\n",
       "       1.93255042e-06, 1.36010446e-05, 7.71662866e-05, 1.42602564e-04,\n",
       "       9.58552085e-05, 6.68215236e-05, 3.38455138e-06, 0.00000000e+00,\n",
       "       2.42982032e-06, 4.08649152e-06, 0.00000000e+00, 2.07169291e-06,\n",
       "       3.15027059e-01, 6.57544777e-04, 4.98193161e-04, 1.27178036e-01])"
      ]
     },
     "execution_count": 51,
     "metadata": {},
     "output_type": "execute_result"
    }
   ],
   "source": [
    "#Extract Feature Importances\n",
    "optimized_rf.feature_importances_"
   ]
  },
  {
   "cell_type": "code",
   "execution_count": 52,
   "metadata": {},
   "outputs": [
    {
     "data": {
      "text/plain": [
       "Item_Weight                       0.00\n",
       "Item_Visibility                   0.00\n",
       "Item_MRP                          0.55\n",
       "Item_Fat_Content_Low Fat          0.00\n",
       "Item_Fat_Content_Regular          0.00\n",
       "Item_Type_Baking Goods            0.00\n",
       "Item_Type_Breads                  0.00\n",
       "Item_Type_Breakfast               0.00\n",
       "Item_Type_Canned                  0.00\n",
       "Item_Type_Dairy                   0.00\n",
       "Item_Type_Frozen Foods            0.00\n",
       "Item_Type_Fruits and Vegetables   0.00\n",
       "Item_Type_Hard Drinks             0.00\n",
       "Item_Type_Health and Hygiene      0.00\n",
       "Item_Type_Household               0.00\n",
       "Item_Type_Meat                    0.00\n",
       "Item_Type_Others                  0.00\n",
       "Item_Type_Seafood                 0.00\n",
       "Item_Type_Snack Foods             0.00\n",
       "Item_Type_Soft Drinks             0.00\n",
       "Item_Type_Starchy Foods           0.00\n",
       "Outlet_Size_High                  0.00\n",
       "Outlet_Size_MISSING               0.00\n",
       "Outlet_Size_Medium                0.00\n",
       "Outlet_Size_Small                 0.00\n",
       "Outlet_Location_Type_Tier 1       0.00\n",
       "Outlet_Location_Type_Tier 2       0.00\n",
       "Outlet_Location_Type_Tier 3       0.00\n",
       "Outlet_Type_Grocery Store         0.32\n",
       "Outlet_Type_Supermarket Type1     0.00\n",
       "Outlet_Type_Supermarket Type2     0.00\n",
       "Outlet_Type_Supermarket Type3     0.13\n",
       "Name: Feature Importance, dtype: float64"
      ]
     },
     "execution_count": 52,
     "metadata": {},
     "output_type": "execute_result"
    }
   ],
   "source": [
    "## Save the feature importances as a Pandas Series\n",
    "importances = pd.Series(optimized_rf.feature_importances_, index= feature_names,\n",
    "                       name='Feature Importance')\n",
    "importances"
   ]
  },
  {
   "cell_type": "code",
   "execution_count": 53,
   "metadata": {},
   "outputs": [
    {
     "data": {
      "text/plain": [
       "Outlet_Size_Medium                0.00\n",
       "Outlet_Location_Type_Tier 2       0.00\n",
       "Item_Type_Others                  0.00\n",
       "Outlet_Location_Type_Tier 3       0.00\n",
       "Outlet_Size_Small                 0.00\n",
       "Outlet_Size_MISSING               0.00\n",
       "Outlet_Location_Type_Tier 1       0.00\n",
       "Item_Type_Seafood                 0.00\n",
       "Item_Type_Breads                  0.00\n",
       "Item_Fat_Content_Regular          0.00\n",
       "Item_Type_Baking Goods            0.00\n",
       "Item_Fat_Content_Low Fat          0.00\n",
       "Item_Type_Canned                  0.00\n",
       "Item_Type_Breakfast               0.00\n",
       "Outlet_Size_High                  0.00\n",
       "Item_Type_Dairy                   0.00\n",
       "Item_Type_Meat                    0.00\n",
       "Item_Type_Snack Foods             0.00\n",
       "Item_Type_Frozen Foods            0.00\n",
       "Item_Type_Hard Drinks             0.00\n",
       "Item_Type_Starchy Foods           0.00\n",
       "Item_Type_Household               0.00\n",
       "Item_Type_Health and Hygiene      0.00\n",
       "Item_Type_Soft Drinks             0.00\n",
       "Item_Weight                       0.00\n",
       "Item_Type_Fruits and Vegetables   0.00\n",
       "Outlet_Type_Supermarket Type2     0.00\n",
       "Outlet_Type_Supermarket Type1     0.00\n",
       "Item_Visibility                   0.00\n",
       "Outlet_Type_Supermarket Type3     0.13\n",
       "Outlet_Type_Grocery Store         0.32\n",
       "Item_MRP                          0.55\n",
       "Name: Feature Importance, dtype: float64"
      ]
     },
     "execution_count": 53,
     "metadata": {},
     "output_type": "execute_result"
    }
   ],
   "source": [
    "## Saving the feature importances sorted from smallest to largest (ascending=True)\n",
    "sorted_importance = importances.sort_values()\n",
    "sorted_importance"
   ]
  },
  {
   "cell_type": "markdown",
   "metadata": {},
   "source": [
    "### Top 5 Most Important Features"
   ]
  },
  {
   "cell_type": "code",
   "execution_count": 54,
   "metadata": {},
   "outputs": [
    {
     "data": {
      "image/png": "[encoded data removed]",
      "text/plain": [
       "<Figure size 700x500 with 1 Axes>"
      ]
     },
     "metadata": {},
     "output_type": "display_data"
    }
   ],
   "source": [
    "## plot top 5 importances\n",
    "fig, ax = plt.subplots()\n",
    "ax = sorted_importance.tail(5).plot(kind='barh',\n",
    "                                    figsize=(7,5),\n",
    "                                      )\n",
    "ax.set(xlabel='Importance',\n",
    "        ylabel='Feature Names',\n",
    "        title='Top 5 Most Important Features');\n",
    "plt.tight_layout()"
   ]
  },
  {
   "cell_type": "markdown",
   "metadata": {},
   "source": [
    "### Identify the top 5 most important features\n",
    "\n",
    "The top 5 most important features are:\n",
    "    \n",
    "    - Item_MRP\n",
    "    - Outlet_Type_Grocery Store\n",
    "    - Outlet_Type_Supermarket Type3\n",
    "    - Item_Visibility\n",
    "    - Outlet_Type_Supermarket Type1"
   ]
  },
  {
   "cell_type": "markdown",
   "metadata": {},
   "source": [
    "### Save Figure as .PNG"
   ]
  },
  {
   "cell_type": "code",
   "execution_count": 55,
   "metadata": {},
   "outputs": [],
   "source": [
    "fig.savefig('images/tuned_random_forest_top5_important_features.png', bbox_inches='tight')"
   ]
  },
  {
   "cell_type": "markdown",
   "metadata": {},
   "source": [
    "# **Serialize Best Models with Joblib**\n"
   ]
  },
  {
   "cell_type": "code",
   "execution_count": 56,
   "metadata": {},
   "outputs": [
    {
     "data": {
      "text/plain": [
       "['regression_models.joblib']"
      ]
     },
     "execution_count": 56,
     "metadata": {},
     "output_type": "execute_result"
    }
   ],
   "source": [
    "## saving variables\n",
    "import joblib\n",
    "## creating a dictionary of all of the variables to save for later\n",
    "export = {'X_train':X_train_df,\n",
    "         'y_train': y_train,\n",
    "         'X_test':X_test_df,\n",
    "         'y_test': y_test,\n",
    "         'preprocessor':preprocessor,\n",
    "         'LinearRegression': lin_reg,\n",
    "         'RandomForest': optimized_rf}\n",
    "joblib.dump(export, 'regression_models.joblib')"
   ]
  }
 ],
 "metadata": {
  "colab": {
   "authorship_tag": "ABX9TyPXqBL6HU8miaYGCLPXHRYx",
   "include_colab_link": true,
   "mount_file_id": "15ZbcfQjxfkEzdW6j8aoM8hhwRppLKE2A",
   "provenance": [],
   "toc_visible": true
  },
  "kernelspec": {
   "display_name": "Python 3 (ipykernel)",
   "language": "python",
   "name": "python3"
  },
  "language_info": {
   "codemirror_mode": {
    "name": "ipython",
    "version": 3
   },
   "file_extension": ".py",
   "mimetype": "text/x-python",
   "name": "python",
   "nbconvert_exporter": "python",
   "pygments_lexer": "ipython3",
   "version": "3.9.15"
  },
  "toc": {
   "base_numbering": 1,
   "nav_menu": {},
   "number_sections": false,
   "sideBar": true,
   "skip_h1_title": false,
   "title_cell": "Table of Contents",
   "title_sidebar": "Contents",
   "toc_cell": false,
   "toc_position": {
    "height": "calc(100% - 180px)",
    "left": "10px",
    "top": "150px",
    "width": "232.391px"
   },
   "toc_section_display": true,
   "toc_window_display": true
  }
 },
 "nbformat": 4,
 "nbformat_minor": 1
}
